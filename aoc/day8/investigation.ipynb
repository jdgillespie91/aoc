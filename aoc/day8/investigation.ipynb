{
 "cells": [
  {
   "cell_type": "markdown",
   "metadata": {},
   "source": [
    "# Day Eight\n",
    "\n",
    "## Task\n",
    "\n",
    "Our [task](https://adventofcode.com/2017/day/8) is to execute a bunch of instructions over a register and determine some value of the register after all intructions have been executed.\n",
    "\n",
    "### Part One\n",
    "\n",
    "First, we are given a set of instructions and asked to find the largest value in the register after all instructions have run.\n",
    "\n",
    "Let's start by defining our register. I'm going to use a dictionary because the instructions suggest I will need a way to look up by position in the register."
   ]
  },
  {
   "cell_type": "code",
   "execution_count": 2,
   "metadata": {},
   "outputs": [],
   "source": [
    "register = {\n",
    "    'a': 0,\n",
    "    'b': 0,\n",
    "    'c': 0,\n",
    "}"
   ]
  },
  {
   "cell_type": "markdown",
   "metadata": {},
   "source": [
    "An instruction comes in the form `b inc 5 if a > 1` so let's translate this into a function that can be executed on register."
   ]
  },
  {
   "cell_type": "code",
   "execution_count": 9,
   "metadata": {},
   "outputs": [
    {
     "data": {
      "text/plain": [
       "5"
      ]
     },
     "execution_count": 9,
     "metadata": {},
     "output_type": "execute_result"
    }
   ],
   "source": [
    "instruction = 'b inc 5 if a > 1'\n",
    "operations = {\n",
    "    'inc': lambda x, y: x + y,\n",
    "    'dec': lambda x, y: x - y,\n",
    "}\n",
    "\n",
    "parts = instruction.split(' ')\n",
    "\n",
    "register_to_operate_on = parts[0]\n",
    "register_operation = operations[parts[1]]\n",
    "register_operation_amount = int(parts[2])\n",
    "\n",
    "register_operation(\n",
    "    register[register_to_operate_on], \n",
    "    register_operation_amount\n",
    ")\n",
    "\n",
    "# operation(0, 0)\n",
    "# condition(0, 1)"
   ]
  },
  {
   "cell_type": "code",
   "execution_count": 25,
   "metadata": {},
   "outputs": [],
   "source": [
    "# register['b'] = operation(register['b']) if condition(register['a'])"
   ]
  },
  {
   "cell_type": "code",
   "execution_count": 24,
   "metadata": {},
   "outputs": [
    {
     "data": {
      "text/plain": [
       "0"
      ]
     },
     "execution_count": 24,
     "metadata": {},
     "output_type": "execute_result"
    }
   ],
   "source": [
    "def read_instruction(string):\n",
    "    parts = string.split(' ')\n",
    "    \n",
    "    # This is where I should parse string to get the \n",
    "    # instructions that I'm currently returning by hand.\n",
    "    \n",
    "    return lambda x: x + 5, lambda x: x > 1\n",
    "\n",
    "operation, condition = read_instruction('b inc 5 if a > 1')\n",
    "\n",
    "operation(register['b']) if condition(register['a']) else register['b']"
   ]
  }
 ],
 "metadata": {
  "kernelspec": {
   "display_name": "Python 3",
   "language": "python",
   "name": "python3"
  },
  "language_info": {
   "codemirror_mode": {
    "name": "ipython",
    "version": 3
   },
   "file_extension": ".py",
   "mimetype": "text/x-python",
   "name": "python",
   "nbconvert_exporter": "python",
   "pygments_lexer": "ipython3",
   "version": "3.6.2"
  }
 },
 "nbformat": 4,
 "nbformat_minor": 2
}
