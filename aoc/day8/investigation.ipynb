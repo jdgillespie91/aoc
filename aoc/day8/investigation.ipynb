{
 "cells": [
  {
   "cell_type": "markdown",
   "metadata": {},
   "source": [
    "# Day Eight\n",
    "\n",
    "## Task\n",
    "\n",
    "Our [task](https://adventofcode.com/2017/day/8) is to execute a bunch of instructions over a register and determine some value of the register after all intructions have been executed.\n",
    "\n",
    "### Part One\n",
    "\n",
    "First, we are given a set of instructions and asked to find the largest value in the register after all instructions have run.\n",
    "\n",
    "Let's start by defining our register. I'm going to use a dictionary because the instructions suggest I will need a way to look up by position in the register."
   ]
  },
  {
   "cell_type": "code",
   "execution_count": 1,
   "metadata": {},
   "outputs": [],
   "source": [
    "registers = {\n",
    "    'a': 0,\n",
    "    'b': 0,\n",
    "    'c': 0,\n",
    "}"
   ]
  },
  {
   "cell_type": "markdown",
   "metadata": {},
   "source": [
    "An instruction comes in the form `b inc 5 if a > 1` so let's translate this into a function that can be executed on register."
   ]
  },
  {
   "cell_type": "code",
   "execution_count": 2,
   "metadata": {},
   "outputs": [],
   "source": [
    "def read_operation(parts):\n",
    "    return lambda x: x + int(parts[2])\n",
    "\n",
    "\n",
    "def read_condition(parts):\n",
    "    return lambda x: x > int(parts[6])\n",
    "\n",
    "    \n",
    "def read_instruction(string):\n",
    "    parts = string.split(' ')\n",
    "    return read_operation(parts), read_condition(parts)"
   ]
  },
  {
   "cell_type": "markdown",
   "metadata": {},
   "source": [
    "Now when we call `read_instruction` on an instruction string, we will be returned with two functions; the first is the register operation and the second is a condition which determines whether we should execute the operation or not. For example:"
   ]
  },
  {
   "cell_type": "code",
   "execution_count": 3,
   "metadata": {},
   "outputs": [
    {
     "name": "stdout",
     "output_type": "stream",
     "text": [
      "Operation: 5, condition: False\n"
     ]
    }
   ],
   "source": [
    "operation, condition = read_instruction('b inc 5 if a > 1')\n",
    "\n",
    "print(f\"Operation: {operation(registers['b'])}, condition: {condition(registers['a'])}\")"
   ]
  },
  {
   "cell_type": "markdown",
   "metadata": {},
   "source": [
    "Now we extend `read_operation` and `read_condition` to handle the various values that might come as instructions."
   ]
  },
  {
   "cell_type": "code",
   "execution_count": 4,
   "metadata": {},
   "outputs": [],
   "source": [
    "operations = {\n",
    "    'inc': lambda x: lambda y: y + x,\n",
    "    'dec': lambda x: lambda y: y - x,\n",
    "}\n",
    "\n",
    "\n",
    "conditions = {\n",
    "    '>': lambda x: lambda y: y > int(x),\n",
    "    '>=': lambda x: lambda y: y >= int(x),\n",
    "    '<': lambda x: lambda y: y < int(x),\n",
    "    '<=': lambda x: lambda y: y <= int(x),\n",
    "    '==': lambda x: lambda y: y == int(x),\n",
    "    '!=': lambda x: lambda y: y != int(x),\n",
    "}\n",
    "\n",
    "\n",
    "def read_operation(parts):\n",
    "    operation_type = parts[1]\n",
    "    operation_value = int(parts[2])\n",
    "    \n",
    "    try:\n",
    "        return operations[operation_type](operation_value)\n",
    "    except KeyError:\n",
    "        raise TypeError(f'Operation not recognised: {parts[1]}')\n",
    "\n",
    "\n",
    "def read_condition(parts):\n",
    "    condition_type = parts[5]\n",
    "    condition_value = int(parts[6])\n",
    "    \n",
    "    try:\n",
    "        return conditions[condition_type](condition_value)\n",
    "    except KeyError:\n",
    "        raise TypeError(f'Operation not recognised: {parts[5]}')\n",
    "\n",
    "    \n",
    "def read_instruction(string):\n",
    "    parts = string.split(' ')\n",
    "    return read_operation(parts), read_condition(parts)"
   ]
  },
  {
   "cell_type": "markdown",
   "metadata": {},
   "source": [
    "Now we can run the set of instructions against our registers and determine the maximum value as follows."
   ]
  },
  {
   "cell_type": "code",
   "execution_count": 5,
   "metadata": {},
   "outputs": [
    {
     "name": "stdout",
     "output_type": "stream",
     "text": [
      "The maximum value is: 1\n"
     ]
    }
   ],
   "source": [
    "instructions = [\n",
    "    'b inc 5 if a > 1',\n",
    "    'a inc 1 if b < 5',\n",
    "    'c dec -10 if a >= 1',\n",
    "    'c inc -20 if c == 10',\n",
    "]\n",
    "\n",
    "\n",
    "def run_instructions(registers, instructions):\n",
    "    for instruction in instructions:\n",
    "        operation_register = instruction.split(' ')[0]\n",
    "        condition_register = instruction.split(' ')[4]\n",
    "    \n",
    "        operation, condition = read_instruction(instruction)\n",
    "        if condition(registers[condition_register]):\n",
    "            registers[operation_register] = operation(registers[operation_register])\n",
    "            \n",
    "            \n",
    "run_instructions(registers, instructions)\n",
    "print(f'The maximum value is: {max(registers.values())}')"
   ]
  },
  {
   "cell_type": "markdown",
   "metadata": {},
   "source": [
    "Finally, we can do this against the puzzle input as follows."
   ]
  },
  {
   "cell_type": "code",
   "execution_count": 6,
   "metadata": {},
   "outputs": [
    {
     "name": "stdout",
     "output_type": "stream",
     "text": [
      "The maximum value is: 5221\n"
     ]
    }
   ],
   "source": [
    "from collections import defaultdict\n",
    "\n",
    "\n",
    "with open('../../data/day8.txt') as f:\n",
    "    data = f.read()\n",
    "    \n",
    "\n",
    "registers = defaultdict(lambda: 0)\n",
    "instructions = [x for x in data.split('\\n') if x]\n",
    "\n",
    "\n",
    "run_instructions(registers, instructions)\n",
    "print(f'The maximum value is: {max(registers.values())}')"
   ]
  },
  {
   "cell_type": "markdown",
   "metadata": {},
   "source": [
    "### Part Two\n",
    "\n",
    "For part two, we need to keep track of the largest value ever held. The method that comes to mind immediately is to simply track it in `run_instructions`."
   ]
  },
  {
   "cell_type": "code",
   "execution_count": 7,
   "metadata": {},
   "outputs": [
    {
     "name": "stdout",
     "output_type": "stream",
     "text": [
      "The maximum value currently is: 5221\n",
      "The maximum value ever written was: 7491\n"
     ]
    }
   ],
   "source": [
    "def run_instructions(registers, instructions):\n",
    "    max_value = 0\n",
    "    \n",
    "    for instruction in instructions:\n",
    "        operation_register = instruction.split(' ')[0]\n",
    "        condition_register = instruction.split(' ')[4]\n",
    "    \n",
    "        operation, condition = read_instruction(instruction)\n",
    "        if condition(registers[condition_register]):\n",
    "            registers[operation_register] = operation(registers[operation_register])\n",
    "            if registers[operation_register] > max_value:\n",
    "                max_value = registers[operation_register]\n",
    "                \n",
    "    return max_value\n",
    "                \n",
    "\n",
    "registers = defaultdict(lambda: 0)\n",
    "instructions = [x for x in data.split('\\n') if x]\n",
    "\n",
    "\n",
    "max_value = run_instructions(registers, instructions)\n",
    "print(f'The maximum value currently is: {max(registers.values())}')\n",
    "print(f'The maximum value ever written was: {max_value}')"
   ]
  }
 ],
 "metadata": {
  "kernelspec": {
   "display_name": "Python 3",
   "language": "python",
   "name": "python3"
  },
  "language_info": {
   "codemirror_mode": {
    "name": "ipython",
    "version": 3
   },
   "file_extension": ".py",
   "mimetype": "text/x-python",
   "name": "python",
   "nbconvert_exporter": "python",
   "pygments_lexer": "ipython3",
   "version": "3.6.2"
  }
 },
 "nbformat": 4,
 "nbformat_minor": 2
}
