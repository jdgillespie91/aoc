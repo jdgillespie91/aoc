{
 "cells": [
  {
   "cell_type": "markdown",
   "metadata": {},
   "source": [
    "### Part One\n",
    "\n",
    "We start by defining a `Registers` class. This is essentially a dictionary with methods that describe our domain in order to make the code later more readable."
   ]
  },
  {
   "cell_type": "code",
   "execution_count": 1,
   "metadata": {},
   "outputs": [],
   "source": [
    "from collections import defaultdict\n",
    "\n",
    "\n",
    "def value(d, x):\n",
    "    try:\n",
    "        return int(x)\n",
    "    except ValueError:\n",
    "        return int(d[x])\n",
    "    \n",
    "\n",
    "class Registers(defaultdict):\n",
    "    def set(self, x, y):\n",
    "        self[x] = value(self, y)\n",
    "        \n",
    "    def multiply(self, x, y):\n",
    "        self[x] *= value(self, y)\n",
    "        \n",
    "    def jump(self, x, y):\n",
    "        x = value(self, x)\n",
    "        if x > 0:\n",
    "            return value(self, y)\n",
    "    \n",
    "    def add(self, x, y):\n",
    "        self[x] += value(self, y)\n",
    "    \n",
    "    def mod(self, x, y):\n",
    "        self[x] = value(self, x) % value(self, y)\n",
    "    \n",
    "    def play(self, x):\n",
    "        self['last_value_played'] = value(self, x)\n",
    "    \n",
    "    def recover(self, x):\n",
    "        if value(self, x) > 0:\n",
    "            return str(self['last_value_played'])"
   ]
  },
  {
   "cell_type": "markdown",
   "metadata": {},
   "source": [
    "Let's also define a `parse` function that can read the instructions provided."
   ]
  },
  {
   "cell_type": "code",
   "execution_count": 2,
   "metadata": {},
   "outputs": [],
   "source": [
    "map_ = {\n",
    "    'set': Registers.set,\n",
    "    'mul': Registers.multiply,\n",
    "    'jgz': Registers.jump,\n",
    "    'add': Registers.add,\n",
    "    'mod': Registers.mod,\n",
    "    'snd': Registers.play,\n",
    "    'rcv': Registers.recover,\n",
    "}\n",
    "\n",
    "\n",
    "def parse(string, map_=map_):\n",
    "    f_string, *args_string = string.split(' ')\n",
    "    try:\n",
    "        return map_[f_string], args_string\n",
    "    except KeyError:\n",
    "        raise ValueError(f'Unable to parse: {string}')"
   ]
  },
  {
   "cell_type": "markdown",
   "metadata": {},
   "source": [
    "Now let's build a controller that can execute the instructions and coordinate the output."
   ]
  },
  {
   "cell_type": "code",
   "execution_count": 3,
   "metadata": {},
   "outputs": [
    {
     "data": {
      "text/plain": [
       "'4'"
      ]
     },
     "execution_count": 3,
     "metadata": {},
     "output_type": "execute_result"
    }
   ],
   "source": [
    "def read_example():\n",
    "    return [\n",
    "        'set a 1',\n",
    "        'add a 2',\n",
    "        'mul a a',\n",
    "        'mod a 5',\n",
    "        'snd a',\n",
    "        'set a 0',\n",
    "        'rcv a',\n",
    "        'jgz a -1',\n",
    "        'set a 1',\n",
    "        'jgz a -2',\n",
    "    ]\n",
    "\n",
    "\n",
    "def controller(instructions):\n",
    "    registers = Registers(lambda: 0)\n",
    "    position = 0\n",
    "    \n",
    "    while True:\n",
    "        f, args = instructions[position]\n",
    "        response = f(registers, *args)\n",
    "    \n",
    "        if response is None:\n",
    "            position += 1\n",
    "        elif isinstance(response, int):\n",
    "            position += response\n",
    "        elif isinstance(response, str):\n",
    "            return response\n",
    "        \n",
    "\n",
    "instructions = list(map(parse, read_example()))\n",
    "controller(instructions)"
   ]
  },
  {
   "cell_type": "markdown",
   "metadata": {},
   "source": [
    "Finally for the puzzle we have"
   ]
  },
  {
   "cell_type": "code",
   "execution_count": 4,
   "metadata": {},
   "outputs": [
    {
     "data": {
      "text/plain": [
       "'9423'"
      ]
     },
     "execution_count": 4,
     "metadata": {},
     "output_type": "execute_result"
    }
   ],
   "source": [
    "def read():\n",
    "    with open('../../data/day18.txt') as f:\n",
    "        data = f.read().strip()\n",
    "        \n",
    "    return data.split('\\n')\n",
    "\n",
    "\n",
    "instructions = list(map(parse, read()))\n",
    "controller(instructions)"
   ]
  },
  {
   "cell_type": "markdown",
   "metadata": {},
   "source": [
    "### Test cases\n",
    "\n",
    "First, let's test that instructions can be parsed correctly."
   ]
  },
  {
   "cell_type": "code",
   "execution_count": 5,
   "metadata": {},
   "outputs": [],
   "source": [
    "assert parse('set i 31') == (Registers.set, ['i', '31'])\n",
    "assert parse('mul p 17') == (Registers.multiply, ['p', '17'])\n",
    "assert parse('jgz -2 i') == (Registers.jump, ['-2', 'i'])\n",
    "assert parse('add i -1') == (Registers.add, ['i', '-1'])\n",
    "assert parse('mod 3 a') == (Registers.mod, ['3', 'a'])\n",
    "assert parse('snd a') == (Registers.play, ['a'])\n",
    "assert parse('rcv b') == (Registers.recover, ['b'])"
   ]
  },
  {
   "cell_type": "markdown",
   "metadata": {},
   "source": [
    "Then let's test that the register operations do what we expect."
   ]
  },
  {
   "cell_type": "code",
   "execution_count": 6,
   "metadata": {},
   "outputs": [],
   "source": [
    "test_cases = [\n",
    "    (Registers.set, ['a', '3'], {'a': 3, 'b': 3}, None),\n",
    "    (Registers.set, ['a', 'b'], {'a': 3, 'b': 3}, None),\n",
    "    (Registers.multiply, ['a', '3'], {'a': 6, 'b': 3}, None),\n",
    "    (Registers.multiply, ['a', 'b'], {'a': 6, 'b': 3}, None),\n",
    "    (Registers.jump, ['0', '2'], {'a': 2, 'b': 3}, None),\n",
    "    (Registers.jump, ['1', '2'], {'a': 2, 'b': 3}, 2),\n",
    "    (Registers.jump, ['1', 'a'], {'a': 2, 'b': 3}, 2),\n",
    "    (Registers.add, ['a', '3'], {'a': 5, 'b': 3}, None),\n",
    "    (Registers.add, ['a', 'b'], {'a': 5, 'b': 3}, None),\n",
    "    (Registers.mod, ['b', '2'], {'a': 2, 'b': 1}, None),\n",
    "    (Registers.mod, ['b', 'a'], {'a': 2, 'b': 1}, None),\n",
    "]\n",
    "\n",
    "for function, args, expected_registers, expected_return in test_cases:\n",
    "    registers = {'a': 2, 'b': 3}\n",
    "    assert expected_return == function(registers, *args), function(registers, *args)\n",
    "    assert expected_registers == registers, f'Expected: {expected_registers}, received: {registers}'"
   ]
  },
  {
   "cell_type": "markdown",
   "metadata": {},
   "source": [
    "Next let's look at the register `play` and `recover` functions."
   ]
  },
  {
   "cell_type": "code",
   "execution_count": 7,
   "metadata": {},
   "outputs": [],
   "source": [
    "registers = defaultdict(lambda: 0)\n",
    "registers['a'] = 2\n",
    "registers['b'] = 3\n",
    "\n",
    "assert None == Registers.play(registers, 'a')\n",
    "assert None == Registers.recover(registers, '0')\n",
    "assert '2' == Registers.recover(registers, 'b')\n",
    "\n",
    "assert None == Registers.play(registers, '4')\n",
    "assert '4' == Registers.recover(registers, 'b')"
   ]
  }
 ],
 "metadata": {
  "kernelspec": {
   "display_name": "Python 3",
   "language": "python",
   "name": "python3"
  },
  "language_info": {
   "codemirror_mode": {
    "name": "ipython",
    "version": 3
   },
   "file_extension": ".py",
   "mimetype": "text/x-python",
   "name": "python",
   "nbconvert_exporter": "python",
   "pygments_lexer": "ipython3",
   "version": "3.6.2"
  }
 },
 "nbformat": 4,
 "nbformat_minor": 2
}
