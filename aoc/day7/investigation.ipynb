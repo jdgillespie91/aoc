{
 "cells": [
  {
   "cell_type": "markdown",
   "metadata": {},
   "source": [
    "# Day Seven"
   ]
  },
  {
   "cell_type": "markdown",
   "metadata": {},
   "source": [
    "## Task"
   ]
  },
  {
   "cell_type": "markdown",
   "metadata": {},
   "source": [
    "We have been [tasked](https://adventofcode.com/2017/day/7) with determining the structure of some tree.\n",
    "\n",
    "In part one, we define a *pruning* function that allows us to prune end nodes until we have only one remaining."
   ]
  },
  {
   "cell_type": "markdown",
   "metadata": {},
   "source": [
    "### Part One"
   ]
  },
  {
   "cell_type": "markdown",
   "metadata": {},
   "source": [
    "First we define our tree"
   ]
  },
  {
   "cell_type": "code",
   "execution_count": 1,
   "metadata": {},
   "outputs": [],
   "source": [
    "tree = {\n",
    "    'abcd': set(),\n",
    "    'pbga': set(),\n",
    "    'xhth': set(),\n",
    "    'ebii': set(),\n",
    "    'havc': set(),\n",
    "    'ktlj': set(),\n",
    "    'fwft': set(['ktlj', 'cntj', 'xhth']),\n",
    "    'qoyq': set(),\n",
    "    'padx': set(['pbga', 'havc', 'qoyq']),\n",
    "    'tknk': set(['ugml', 'padx', 'fwft']),\n",
    "    'jptl': set(),\n",
    "    'ugml': set(['gyxo', 'ebii', 'jptl']),\n",
    "    'gyxo': set(['abcd']),\n",
    "    'cntj': set(),\n",
    "}"
   ]
  },
  {
   "cell_type": "markdown",
   "metadata": {},
   "source": [
    "Then we define *prune*, a function that prunes all leaves from a branch. Here, I use the definition that a leaf is a node without any children and a branch is a node with at least one child."
   ]
  },
  {
   "cell_type": "code",
   "execution_count": 2,
   "metadata": {},
   "outputs": [],
   "source": [
    "import copy\n",
    "\n",
    "\n",
    "def prune(tree):\n",
    "    tree_copy = copy.copy(tree)\n",
    "    \n",
    "    leaves = get_leaves(tree_copy)\n",
    "    for branch in get_branches(tree_copy):\n",
    "        tree_copy[branch] = tree_copy[branch] - leaves\n",
    "        \n",
    "    return tree_copy\n",
    "            \n",
    "        \n",
    "def get_leaves(tree):\n",
    "    return {k for k, v in tree.items() if not v}\n",
    "\n",
    "\n",
    "def get_branches(tree):\n",
    "    return {k for k, v in tree.items() if v}"
   ]
  },
  {
   "cell_type": "markdown",
   "metadata": {},
   "source": [
    "Now we can prune until we have one branch left. At this point, we must have the root."
   ]
  },
  {
   "cell_type": "code",
   "execution_count": 3,
   "metadata": {},
   "outputs": [],
   "source": [
    "def root(tree):\n",
    "    tree_copy = copy.copy(tree)\n",
    "    \n",
    "    while len(get_branches(tree_copy)) > 1:\n",
    "        tree_copy = prune(tree_copy)\n",
    "        \n",
    "    return get_branches(tree_copy).pop()"
   ]
  },
  {
   "cell_type": "markdown",
   "metadata": {},
   "source": [
    "We can find the root of our tree with"
   ]
  },
  {
   "cell_type": "code",
   "execution_count": 4,
   "metadata": {},
   "outputs": [
    {
     "data": {
      "text/plain": [
       "'tknk'"
      ]
     },
     "execution_count": 4,
     "metadata": {},
     "output_type": "execute_result"
    }
   ],
   "source": [
    "root(tree)"
   ]
  },
  {
   "cell_type": "markdown",
   "metadata": {},
   "source": [
    "Finally, operating on the puzzle, we have"
   ]
  },
  {
   "cell_type": "code",
   "execution_count": 7,
   "metadata": {},
   "outputs": [
    {
     "data": {
      "text/plain": [
       "'dtacyn'"
      ]
     },
     "execution_count": 7,
     "metadata": {},
     "output_type": "execute_result"
    }
   ],
   "source": [
    "with open('../../data/day7.txt') as f:\n",
    "    data = f.read()\n",
    "    \n",
    "def data_mapper(x):\n",
    "    l = x.split(' -> ')\n",
    "    \n",
    "    branch = l[0].split(\" \")[0]\n",
    "    leaves = set() if len(l) == 1 else set(l[1].split(\", \"))\n",
    "    \n",
    "    return (branch, leaves)\n",
    "    \n",
    "puzzle_tree = {k: v for k, v in map(data_mapper, data.split('\\n'))}\n",
    "root(puzzle_tree)"
   ]
  }
 ],
 "metadata": {
  "kernelspec": {
   "display_name": "Python 3",
   "language": "python",
   "name": "python3"
  },
  "language_info": {
   "codemirror_mode": {
    "name": "ipython",
    "version": 3
   },
   "file_extension": ".py",
   "mimetype": "text/x-python",
   "name": "python",
   "nbconvert_exporter": "python",
   "pygments_lexer": "ipython3",
   "version": "3.6.2"
  }
 },
 "nbformat": 4,
 "nbformat_minor": 2
}
