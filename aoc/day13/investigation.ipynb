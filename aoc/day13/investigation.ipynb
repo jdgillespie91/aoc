{
 "cells": [
  {
   "cell_type": "markdown",
   "metadata": {},
   "source": [
    "# Day Thirteen\n",
    "\n",
    "## Task\n",
    "\n",
    "The [task](https://adventofcode.com/2017/day/13) today is to determine the severity of a trip through a firewall. In this case, the firewall is made up of several layers. In each layer there is a scanner that moves up and down. The idea is that we have a preset path (in part one at least) for which we must compute the severity; the number of times that we encounter the scanner.\n",
    "\n",
    "First, let's look in more detail at one of the layers. According to the task, a layer has a range and a depth. The range indicates how many steps the scanner has to travel across the layer. For example, the following layer has a range of three.\n",
    "\n",
    "```\n",
    "[ ]\n",
    "[ ]\n",
    "[ ]\n",
    "```\n",
    "\n",
    "The depth of a layer indicates where in the firewall the layer is. Here, we have a firewall with two layers, one with a range of three and depth of zero, and the other with a range of two and depth of one.\n",
    "\n",
    "```\n",
    "[ ]   [ ]\n",
    "[ ]   [ ]\n",
    "[ ]\n",
    "```\n",
    "\n",
    "Finally, let's look at how the scanner travels through a layer. It spends one tick in each step, so letting time increase from left to right, we have\n",
    "\n",
    "```\n",
    "t=0    t=1    t=2    t=3    t=4    t=5    t=6\n",
    "\n",
    "[S]    [ ]    [ ]    [ ]    [S]    [ ]    [ ] \n",
    "[ ] -> [S] -> [ ] -> [S] -> [ ] -> [S] -> [ ] ...\n",
    "[ ]    [ ]    [S]    [ ]    [ ]    [ ]    [S] \n",
    "```\n",
    "\n",
    "### Part One\n",
    "\n",
    "First, let's define a funtion that can give us the position of a scanner in a layer with given range after some time."
   ]
  },
  {
   "cell_type": "code",
   "execution_count": 1,
   "metadata": {},
   "outputs": [],
   "source": [
    "inc = lambda x: x + 1\n",
    "dec = lambda x: x - 1\n",
    "\n",
    "    \n",
    "def position(range):\n",
    "    p = -1\n",
    "    f = inc\n",
    "\n",
    "    while True:\n",
    "        p = f(p)\n",
    "        \n",
    "        if p == 0:\n",
    "            f = inc\n",
    "        \n",
    "        if p + 1 == range:\n",
    "            f = dec\n",
    "\n",
    "        yield p"
   ]
  },
  {
   "cell_type": "markdown",
   "metadata": {},
   "source": [
    "Here, `position` returns a generator that on iteration gives the location of the scanner."
   ]
  },
  {
   "cell_type": "code",
   "execution_count": 2,
   "metadata": {},
   "outputs": [
    {
     "name": "stdout",
     "output_type": "stream",
     "text": [
      "At t=0, scanner is about to leave position 0\n",
      "At t=1, scanner is about to leave position 1\n",
      "At t=2, scanner is about to leave position 2\n",
      "At t=3, scanner is about to leave position 1\n",
      "At t=4, scanner is about to leave position 0\n"
     ]
    }
   ],
   "source": [
    "i = position(3)\n",
    "for t in range(0, 5):\n",
    "    print(f'At t={t}, scanner is about to leave position {next(i)}')"
   ]
  },
  {
   "cell_type": "markdown",
   "metadata": {},
   "source": [
    "Now let's think about the severity of a path through the firewall. According to the task, when `t` increments the following happens:\n",
    "\n",
    " - We move one step to the right.\n",
    " - If there is a scanner in the place we've just moved into, we're caught.\n",
    " - Then the scanners move one step in whatever direction they're travelling.\n",
    " \n",
    "Using the example given in the task, we write this as follows:"
   ]
  },
  {
   "cell_type": "code",
   "execution_count": 3,
   "metadata": {},
   "outputs": [
    {
     "data": {
      "text/plain": [
       "24"
      ]
     },
     "execution_count": 3,
     "metadata": {},
     "output_type": "execute_result"
    }
   ],
   "source": [
    "def severity(firewall):\n",
    "    sev = 0\n",
    "    \n",
    "    positions = [position(x) if x else None for x in firewall]\n",
    "    \n",
    "    for t in range(0, len(positions)):\n",
    "        positions_at_t = [next(x) if x else None for x in positions]\n",
    "        \n",
    "        if positions_at_t[t] == 0:\n",
    "            sev += t * firewall[t]\n",
    "            \n",
    "    return sev\n",
    "            \n",
    "            \n",
    "severity([3, 2, None, None, 4, None, 4])"
   ]
  },
  {
   "cell_type": "markdown",
   "metadata": {},
   "source": [
    "Using the puzzle data, this becomes"
   ]
  },
  {
   "cell_type": "code",
   "execution_count": 4,
   "metadata": {},
   "outputs": [
    {
     "data": {
      "text/plain": [
       "1580"
      ]
     },
     "execution_count": 4,
     "metadata": {},
     "output_type": "execute_result"
    }
   ],
   "source": [
    "def read():\n",
    "    with open('../../data/day13.txt') as f:\n",
    "        data = f.read()\n",
    "        \n",
    "    data_dict = {}\n",
    "    for x in data.split('\\n'):\n",
    "        if not x:\n",
    "            continue\n",
    "            \n",
    "        k, v = map(int, x.split(': '))\n",
    "        data_dict[k] = v\n",
    "                \n",
    "    return [data_dict.get(x, None) for x in range(0, max(data_dict.keys()) + 1)]\n",
    "\n",
    "\n",
    "data = read()\n",
    "severity(data)"
   ]
  },
  {
   "cell_type": "markdown",
   "metadata": {},
   "source": [
    "### Part Two\n",
    "\n",
    "It turns out that the solution is sufficiently large that I need to use a different approach to part one (see [this commit](https://github.com/jdgillespie91/aoc/commit/26833fd78e40d00e4faa450041e83e13a35eca46) for the results when using this approach; it's very slow). In principle, the idea is to track whether a scanner is at the top of its layer or not rather than tracking _exactly_ where it is."
   ]
  },
  {
   "cell_type": "code",
   "execution_count": 5,
   "metadata": {},
   "outputs": [],
   "source": [
    "class Scanner:\n",
    "    def __init__(self, range):\n",
    "        self._range = range\n",
    "        \n",
    "    @property\n",
    "    def range(self):\n",
    "        return self._range\n",
    "    \n",
    "    def __repr__(self):\n",
    "        return f'<Scanner ({self.range})>'\n",
    "\n",
    "\n",
    "def is_scanner_at_top(scanner, time):\n",
    "    if time % (2*scanner.range - 2) == 0:\n",
    "        return True\n",
    "    \n",
    "    return False"
   ]
  },
  {
   "cell_type": "markdown",
   "metadata": {},
   "source": [
    "Now we can define a function like `severity` again."
   ]
  },
  {
   "cell_type": "code",
   "execution_count": 6,
   "metadata": {},
   "outputs": [],
   "source": [
    "def severity(firewall):\n",
    "    sev = 0\n",
    "    \n",
    "    for time, range_ in enumerate(firewall):\n",
    "        if range_ and is_scanner_at_top(Scanner(range_), time):\n",
    "            sev += time * range_\n",
    "            \n",
    "    return sev"
   ]
  },
  {
   "cell_type": "markdown",
   "metadata": {},
   "source": [
    "Similarly, we can define something like `caught` too."
   ]
  },
  {
   "cell_type": "code",
   "execution_count": 7,
   "metadata": {},
   "outputs": [],
   "source": [
    "def caught(firewall, delay):   \n",
    "    for time, range_ in enumerate(firewall, start=delay):\n",
    "        if range_ and is_scanner_at_top(Scanner(range_), time):\n",
    "            return True\n",
    "            \n",
    "    return False"
   ]
  },
  {
   "cell_type": "markdown",
   "metadata": {},
   "source": [
    "Finally, we can loop over positive delays to find the first available that results in us sneaking through the firewall."
   ]
  },
  {
   "cell_type": "code",
   "execution_count": 8,
   "metadata": {},
   "outputs": [
    {
     "name": "stdout",
     "output_type": "stream",
     "text": [
      "We sneak through with a delay of 3943252 picoseconds!\n"
     ]
    }
   ],
   "source": [
    "firewall = read()\n",
    "delay = 0\n",
    "while True:\n",
    "    if not caught(firewall, delay=delay):\n",
    "        print(f'We sneak through with a delay of {delay} picoseconds!')\n",
    "        break\n",
    "    \n",
    "    delay += 1"
   ]
  }
 ],
 "metadata": {
  "kernelspec": {
   "display_name": "Python 3",
   "language": "python",
   "name": "python3"
  },
  "language_info": {
   "codemirror_mode": {
    "name": "ipython",
    "version": 3
   },
   "file_extension": ".py",
   "mimetype": "text/x-python",
   "name": "python",
   "nbconvert_exporter": "python",
   "pygments_lexer": "ipython3",
   "version": "3.6.2"
  }
 },
 "nbformat": 4,
 "nbformat_minor": 2
}
