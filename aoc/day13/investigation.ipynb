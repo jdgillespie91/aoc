{
 "cells": [
  {
   "cell_type": "markdown",
   "metadata": {},
   "source": [
    "# Day Thirteen\n",
    "\n",
    "## Task\n",
    "\n",
    "The [task](https://adventofcode.com/2017/day/13) today is to determine the severity of a trip through a firewall. In this case, the firewall is made up of several layers. In each layer there is a scanner that moves up and down. The idea is that we have a preset path (in part one at least) for which we must compute the severity; the number of times that we encounter the scanner.\n",
    "\n",
    "First, let's look in more detail at one of the layers. According to the task, a layer has a range and a depth. The range indicates how many steps the scanner has to travel across the layer. For example, the following layer has a range of three.\n",
    "\n",
    "```\n",
    "[ ]\n",
    "[ ]\n",
    "[ ]\n",
    "```\n",
    "\n",
    "The depth of a layer indicates where in the firewall the layer is. Here, we have a firewall with two layers, one with a range of three and depth of zero, and the other with a range of two and depth of one.\n",
    "\n",
    "```\n",
    "[ ]   [ ]\n",
    "[ ]   [ ]\n",
    "[ ]\n",
    "```\n",
    "\n",
    "Finally, let's look at how the scanner travels through a layer. It spends one tick in each step, so letting time increase from left to right, we have\n",
    "\n",
    "```\n",
    "t=0    t=1    t=2    t=3    t=4    t=5    t=6\n",
    "\n",
    "[S]    [ ]    [ ]    [ ]    [S]    [ ]    [ ] \n",
    "[ ] -> [S] -> [ ] -> [S] -> [ ] -> [S] -> [ ] ...\n",
    "[ ]    [ ]    [S]    [ ]    [ ]    [ ]    [S] \n",
    "```\n",
    "\n",
    "### Part One\n",
    "\n",
    "First, let's define a funtion that can give us the position of a scanner in a layer with given range after some time."
   ]
  },
  {
   "cell_type": "code",
   "execution_count": 1,
   "metadata": {},
   "outputs": [],
   "source": [
    "inc = lambda x: x + 1\n",
    "dec = lambda x: x - 1\n",
    "\n",
    "    \n",
    "def position(range):\n",
    "    p = -1\n",
    "    f = inc\n",
    "\n",
    "    while True:\n",
    "        p = f(p)\n",
    "        \n",
    "        if p == 0:\n",
    "            f = inc\n",
    "        \n",
    "        if p + 1 == range:\n",
    "            f = dec\n",
    "\n",
    "        yield p"
   ]
  },
  {
   "cell_type": "markdown",
   "metadata": {},
   "source": [
    "Here, `position` returns a generator that on iteration gives the location of the scanner."
   ]
  },
  {
   "cell_type": "code",
   "execution_count": 2,
   "metadata": {},
   "outputs": [
    {
     "name": "stdout",
     "output_type": "stream",
     "text": [
      "At t=0, scanner is about to leave position 0\n",
      "At t=1, scanner is about to leave position 1\n",
      "At t=2, scanner is about to leave position 2\n",
      "At t=3, scanner is about to leave position 1\n",
      "At t=4, scanner is about to leave position 0\n"
     ]
    }
   ],
   "source": [
    "i = position(3)\n",
    "for t in range(0, 5):\n",
    "    print(f'At t={t}, scanner is about to leave position {next(i)}')"
   ]
  },
  {
   "cell_type": "markdown",
   "metadata": {},
   "source": [
    "Now let's think about the severity of a path through the firewall. According to the task, when `t` increments the following happens:\n",
    "\n",
    " - We move one step to the right.\n",
    " - If there is a scanner in the place we've just moved into, we're caught.\n",
    " - Then the scanners move one step in whatever direction they're travelling.\n",
    " \n",
    "Using the example given in the task, we write this as follows:"
   ]
  },
  {
   "cell_type": "code",
   "execution_count": 3,
   "metadata": {},
   "outputs": [
    {
     "data": {
      "text/plain": [
       "24"
      ]
     },
     "execution_count": 3,
     "metadata": {},
     "output_type": "execute_result"
    }
   ],
   "source": [
    "def severity(firewall):\n",
    "    sev = 0\n",
    "    \n",
    "    positions = [position(x) if x else None for x in firewall]\n",
    "    \n",
    "    for t in range(0, len(positions)):\n",
    "        positions_at_t = [next(x) if x else None for x in positions]\n",
    "        \n",
    "        if positions_at_t[t] == 0:\n",
    "            sev += t * firewall[t]\n",
    "            \n",
    "    return sev\n",
    "            \n",
    "            \n",
    "severity([3, 2, None, None, 4, None, 4])"
   ]
  },
  {
   "cell_type": "markdown",
   "metadata": {},
   "source": [
    "Using the puzzle data, this becomes"
   ]
  },
  {
   "cell_type": "code",
   "execution_count": 4,
   "metadata": {},
   "outputs": [
    {
     "data": {
      "text/plain": [
       "1580"
      ]
     },
     "execution_count": 4,
     "metadata": {},
     "output_type": "execute_result"
    }
   ],
   "source": [
    "def read():\n",
    "    with open('../../data/day13.txt') as f:\n",
    "        data = f.read()\n",
    "        \n",
    "    data_dict = {}\n",
    "    for x in data.split('\\n'):\n",
    "        if not x:\n",
    "            continue\n",
    "            \n",
    "        k, v = map(int, x.split(': '))\n",
    "        data_dict[k] = v\n",
    "        \n",
    "    return [data_dict.get(x, None) for x in range(0, max(data_dict.keys()))]\n",
    "\n",
    "\n",
    "data = read()\n",
    "severity(data)"
   ]
  },
  {
   "cell_type": "markdown",
   "metadata": {},
   "source": [
    "### Part Two\n",
    "\n",
    "For part two, we are able to delay the start of our journey through the firewall. The idea is to find the smallest delay such that we don't get caught on our path. Note that this is not exactly the same as having a severity of zero (which is a necessary but not sufficient) since we might be caught in the first layer.\n",
    "\n",
    "In code, I'm going to create a new function `caught` that looks very similar to `severity` but with the following changes:\n",
    "\n",
    " - To imitate the delay, I am going to tick my iterator before beginning.\n",
    " - So that being caught in the first layer isn't missed, I'm going to return a boolean value that indicates whether we've been caught."
   ]
  },
  {
   "cell_type": "code",
   "execution_count": 5,
   "metadata": {},
   "outputs": [
    {
     "name": "stdout",
     "output_type": "stream",
     "text": [
      "Bailing because this is taking a while...\n"
     ]
    }
   ],
   "source": [
    "def caught(firewall, delay=0):\n",
    "    positions = [position(x) if x else None for x in firewall]\n",
    "    \n",
    "    for _ in range(0, delay):\n",
    "        [next(x) if x else None for x in positions]\n",
    "    \n",
    "    for t in range(0, len(positions)):\n",
    "        positions_at_t = [next(x) if x else None for x in positions]\n",
    "        \n",
    "        if positions_at_t[t] == 0:\n",
    "            return True\n",
    "            \n",
    "    return False\n",
    "\n",
    "data = read()\n",
    "\n",
    "delay = 0\n",
    "while True:\n",
    "    if not caught(data, delay=delay):\n",
    "        print(f'We sneak through with a delay of {delay} picoseconds!')\n",
    "        break\n",
    "    \n",
    "    delay += 1\n",
    "    \n",
    "    if delay == 500:\n",
    "        print(f'Bailing because this is taking a while...')\n",
    "        break"
   ]
  },
  {
   "cell_type": "markdown",
   "metadata": {},
   "source": [
    "It turns out that the required delay is a bit bigger than I expected meaning I'll need to optimise my approach. The most obvious thing to do is to refine how I determine the start values of my scanners.\n",
    "\n",
    "Notice that for a layer with a range of two, position over time takes the values `0, 1, 0, 1, 0, ...`. It has a cycle length of two. Similarly for a layer with a range of three, it has a cycle length of four. In general, a layer with range `r` has cycle length `2 * r - 2`. If we take `delay % cycle_length`, we find the number of times we need to iterate our starting positions."
   ]
  },
  {
   "cell_type": "code",
   "execution_count": 6,
   "metadata": {},
   "outputs": [
    {
     "name": "stdout",
     "output_type": "stream",
     "text": [
      "Delay: 50000\n",
      "Delay: 100000\n",
      "Delay: 150000\n",
      "Delay: 200000\n",
      "Delay: 250000\n",
      "Delay: 300000\n",
      "We sneak through with a delay of 339652 picoseconds!\n"
     ]
    }
   ],
   "source": [
    "def caught(firewall, delay=0):\n",
    "    positions = [position(x) if x else None for x in firewall]\n",
    "    \n",
    "    for i, r in enumerate(firewall):\n",
    "        if r:\n",
    "            for _ in range(0, delay % (2 * r - 2)):\n",
    "                next(positions[i])\n",
    "    \n",
    "    for t in range(0, len(positions)):\n",
    "        positions_at_t = [next(x) if x else None for x in positions]\n",
    "        \n",
    "        if positions_at_t[t] == 0:\n",
    "            return True\n",
    "            \n",
    "    return False\n",
    "\n",
    "data = read()\n",
    "\n",
    "delay = 0\n",
    "while True:\n",
    "    if not caught(data, delay=delay):\n",
    "        print(f'We sneak through with a delay of {delay} picoseconds!')\n",
    "        break\n",
    "    \n",
    "    delay += 1\n",
    "    \n",
    "    if delay % 50000 == 0:\n",
    "        print(f'Delay: {delay}')"
   ]
  },
  {
   "cell_type": "code",
   "execution_count": 7,
   "metadata": {},
   "outputs": [
    {
     "name": "stdout",
     "output_type": "stream",
     "text": [
      "We sneak through with a delay of 10 picoseconds!\n"
     ]
    }
   ],
   "source": [
    "data = [3, 2, None, None, 4, None, 4]\n",
    "\n",
    "delay = 0\n",
    "while True:\n",
    "    if not caught(data, delay=delay):\n",
    "        print(f'We sneak through with a delay of {delay} picoseconds!')\n",
    "        break\n",
    "    \n",
    "    delay += 1\n",
    "    \n",
    "    if delay % 50000 == 0:\n",
    "        print(f'Delay: {delay}')"
   ]
  }
 ],
 "metadata": {
  "kernelspec": {
   "display_name": "Python 3",
   "language": "python",
   "name": "python3"
  },
  "language_info": {
   "codemirror_mode": {
    "name": "ipython",
    "version": 3
   },
   "file_extension": ".py",
   "mimetype": "text/x-python",
   "name": "python",
   "nbconvert_exporter": "python",
   "pygments_lexer": "ipython3",
   "version": "3.6.2"
  }
 },
 "nbformat": 4,
 "nbformat_minor": 2
}
