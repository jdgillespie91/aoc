{
 "cells": [
  {
   "cell_type": "markdown",
   "metadata": {},
   "source": [
    "# Day Nine\n",
    "\n",
    "## Task\n",
    "\n",
    "The [task](https://adventofcode.com/2017/day/9) today is to parse a string for its value. The rules in detail are explained in the task but roughly\n",
    "\n",
    "* Groups are enclosed in `{` and `}`.\n",
    "* The value of a group increases with the amount of times it is nested.\n",
    "* `!` means that the following character can be discarded.\n",
    "* Any characters between a `<` and `>` are ignored.\n",
    "\n",
    "### Part One\n",
    "\n",
    "For part one, I am going to strip the given string of all characters other than `{` and `}` according to the rules in the task. This will give me a simple string for which the value can be calculated."
   ]
  },
  {
   "cell_type": "code",
   "execution_count": 1,
   "metadata": {},
   "outputs": [],
   "source": [
    "import re\n",
    "\n",
    "def value(string):\n",
    "    s = re.sub('!.{1}', '', string)    \n",
    "    s = re.sub('<.*?>', '', s)\n",
    "    s = re.sub('[^{}]', '', s)\n",
    "    \n",
    "    count = 0\n",
    "    counts = 0\n",
    "    for char in s:\n",
    "        if char == '{':\n",
    "            count += 1\n",
    "        else:\n",
    "            counts += count\n",
    "            count -= 1\n",
    "            \n",
    "    return counts"
   ]
  },
  {
   "cell_type": "markdown",
   "metadata": {},
   "source": [
    "We can test this on the examples with"
   ]
  },
  {
   "cell_type": "code",
   "execution_count": 2,
   "metadata": {},
   "outputs": [],
   "source": [
    "assert value('{}') == 1\n",
    "assert value('{{{}}}') == 6\n",
    "assert value('{{},{}}') == 5\n",
    "assert value('{{{},{},{{}}}}') ==  16\n",
    "assert value('{<a>,<a>,<a>,<a>}') == 1\n",
    "assert value('{{<ab>},{<ab>},{<ab>},{<ab>}}') == 9\n",
    "assert value('{{<!!>},{<!!>},{<!!>},{<!!>}}') == 9\n",
    "assert value('{{<a!>},{<a!>},{<a!>},{<ab>}}') == 3"
   ]
  },
  {
   "cell_type": "markdown",
   "metadata": {},
   "source": [
    "Finally, lets run `value` against the puzzle."
   ]
  },
  {
   "cell_type": "code",
   "execution_count": 3,
   "metadata": {},
   "outputs": [
    {
     "data": {
      "text/plain": [
       "14421"
      ]
     },
     "execution_count": 3,
     "metadata": {},
     "output_type": "execute_result"
    }
   ],
   "source": [
    "with open('../../data/day9.txt') as f:\n",
    "    data = f.read()\n",
    "    \n",
    "value(data)"
   ]
  },
  {
   "cell_type": "markdown",
   "metadata": {},
   "source": [
    "### Part Two\n",
    "\n",
    "For part two, we need to determine the length of the garbarge strings. These are given by the second regex so lets redefine `value` to first print the length of the garbage."
   ]
  },
  {
   "cell_type": "code",
   "execution_count": 4,
   "metadata": {},
   "outputs": [],
   "source": [
    "def value(string):\n",
    "    s = re.sub('!.{1}', '', string)    \n",
    "    print(sum(map(lambda x: len(x) - 2, re.findall('<.*?>', s))))\n",
    "    s = re.sub('<.*?>', '', s)\n",
    "    s = re.sub('[^{}]', '', s)\n",
    "    \n",
    "    count = 0\n",
    "    counts = 0\n",
    "    for char in s:\n",
    "        if char == '{':\n",
    "            count += 1\n",
    "        else:\n",
    "            counts += count\n",
    "            count -= 1\n",
    "            \n",
    "    return counts"
   ]
  },
  {
   "cell_type": "markdown",
   "metadata": {},
   "source": [
    "Calling `value` on `data` again gives"
   ]
  },
  {
   "cell_type": "code",
   "execution_count": 5,
   "metadata": {},
   "outputs": [
    {
     "name": "stdout",
     "output_type": "stream",
     "text": [
      "6817\n"
     ]
    },
    {
     "data": {
      "text/plain": [
       "14421"
      ]
     },
     "execution_count": 5,
     "metadata": {},
     "output_type": "execute_result"
    }
   ],
   "source": [
    "with open('../../data/day9.txt') as f:\n",
    "    data = f.read()\n",
    "    \n",
    "value(data)"
   ]
  }
 ],
 "metadata": {
  "kernelspec": {
   "display_name": "Python 3",
   "language": "python",
   "name": "python3"
  },
  "language_info": {
   "codemirror_mode": {
    "name": "ipython",
    "version": 3
   },
   "file_extension": ".py",
   "mimetype": "text/x-python",
   "name": "python",
   "nbconvert_exporter": "python",
   "pygments_lexer": "ipython3",
   "version": "3.6.2"
  }
 },
 "nbformat": 4,
 "nbformat_minor": 2
}
