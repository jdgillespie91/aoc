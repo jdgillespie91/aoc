{
 "cells": [
  {
   "cell_type": "markdown",
   "metadata": {},
   "source": [
    "# Day Eleven\n",
    "\n",
    "## Task\n",
    "\n",
    "The [task_](https://adventofcode.com/2017/day/11) is to implement some sort of path-finding in a hex grid.\n",
    "\n",
    "### Part One\n",
    "\n",
    "In the first part, we are given a list of movement instructions. Our goal is to find the distance from the origin to the point that one reaches after following these instructions.\n",
    "\n",
    "I will use the fact that certain movements can be reduced to other movements. For example, moving `ne` and `nw` is equivalent to moving `n`. Similarly, moving `ne` and `sw` is equivalent to not moving at all."
   ]
  },
  {
   "cell_type": "code",
   "execution_count": 1,
   "metadata": {},
   "outputs": [
    {
     "data": {
      "text/plain": [
       "Counter({'ne': 2, 's': 2})"
      ]
     },
     "execution_count": 1,
     "metadata": {},
     "output_type": "execute_result"
    }
   ],
   "source": [
    "from collections import Counter\n",
    "\n",
    "directions = Counter(['ne', 'ne', 's', 's'])\n",
    "directions"
   ]
  },
  {
   "cell_type": "markdown",
   "metadata": {},
   "source": [
    "Now, I know that `ne` and `s` is the same as moving `se`. Therefore,"
   ]
  },
  {
   "cell_type": "code",
   "execution_count": 2,
   "metadata": {},
   "outputs": [
    {
     "data": {
      "text/plain": [
       "Counter({'ne': 0, 's': 0, 'se': 2})"
      ]
     },
     "execution_count": 2,
     "metadata": {},
     "output_type": "execute_result"
    }
   ],
   "source": [
    "n = min(directions['ne'], directions['s'])\n",
    "\n",
    "directions['se'] = n\n",
    "directions['ne'] -= n\n",
    "directions['s'] -= n\n",
    "\n",
    "directions"
   ]
  },
  {
   "cell_type": "markdown",
   "metadata": {},
   "source": [
    "How do we know when a counter of directions can be reduced no further? Let's play with some more examples to see if a pattern reveals itself."
   ]
  },
  {
   "cell_type": "code",
   "execution_count": 3,
   "metadata": {},
   "outputs": [
    {
     "data": {
      "text/plain": [
       "Counter({'ne': 4, 's': 2, 'se': 2, 'sw': 5})"
      ]
     },
     "execution_count": 3,
     "metadata": {},
     "output_type": "execute_result"
    }
   ],
   "source": [
    "directions = Counter(['ne', 'ne', 'sw', 'sw', 'ne', 'ne', 's', 's', 'se', 'sw', 'se', 'sw', 'sw'])\n",
    "directions"
   ]
  },
  {
   "cell_type": "markdown",
   "metadata": {},
   "source": [
    "It's clear that those with opposite vertical directions (e.g. `ne` and `s`, `se` and `n`, ...) can be reduced. Further, those with the same vertical direction but opposite horizontal directions can be too. Finally, opposing directions equate to no movement at all. With this in mind, let's define the pairs that can be reduced and what they can be reduced to."
   ]
  },
  {
   "cell_type": "code",
   "execution_count": 4,
   "metadata": {},
   "outputs": [],
   "source": [
    "pairs = {\n",
    "    (('ne', 'nw'), 'n'), \n",
    "    (('ne', 'sw'), ''),\n",
    "    (('ne', 's'), 'se'),\n",
    "    (('nw', 'ne'), 'n'), \n",
    "    (('nw', 'se'), ''),\n",
    "    (('nw', 's'), 'sw'),\n",
    "    (('se', 'sw'), 's'), \n",
    "    (('se', 'nw'), ''),\n",
    "    (('se', 'n'), 'ne'),\n",
    "    (('sw', 'se'), 's'), \n",
    "    (('sw', 'ne'), ''),\n",
    "    (('sw', 'n'), 'nw'),\n",
    "    (('n', 'se'), 'ne'),\n",
    "    (('n', 'sw'), 'nw'),\n",
    "    (('n', 's'), ''),\n",
    "    (('s', 'ne'), 'se'),\n",
    "    (('s', 'nw'), 'sw'),\n",
    "    (('s', 'n'), ''),\n",
    "}"
   ]
  },
  {
   "cell_type": "markdown",
   "metadata": {},
   "source": [
    "With this list, we can search our counter to find reducible pairs."
   ]
  },
  {
   "cell_type": "code",
   "execution_count": 5,
   "metadata": {},
   "outputs": [
    {
     "data": {
      "text/plain": [
       "Counter({'n': 0, 'ne': 0, 'nw': 0, 's': 3, 'se': 1, 'sw': 0})"
      ]
     },
     "execution_count": 5,
     "metadata": {},
     "output_type": "execute_result"
    }
   ],
   "source": [
    "def reduce(directions, first_direction, second_direction, composed_direction):\n",
    "    n = min(directions[first_direction], directions[second_direction])\n",
    "    \n",
    "    directions[first_direction] -= n\n",
    "    directions[second_direction] -= n    \n",
    "    if composed_direction:\n",
    "        directions[composed_direction] += n\n",
    "    \n",
    "    return bool(n)\n",
    "\n",
    "\n",
    "def iterate_until(directions, pairs):\n",
    "    while True:\n",
    "        for pair in pairs:\n",
    "            if reduce(directions, pair[0][0], pair[0][1], pair[1]):\n",
    "                break\n",
    "        else:\n",
    "            return directions\n",
    "\n",
    "        \n",
    "directions = Counter(['ne', 'ne', 'sw', 'sw', 'ne', 'ne', 's', 's', 'se', 'sw', 'se', 'sw', 'sw'])\n",
    "iterate_until(directions, pairs)"
   ]
  },
  {
   "cell_type": "markdown",
   "metadata": {},
   "source": [
    "The shortest path is then given by summing the values. Let's test this on the given examples."
   ]
  },
  {
   "cell_type": "code",
   "execution_count": 6,
   "metadata": {},
   "outputs": [],
   "source": [
    "assert 3 == sum(iterate_until(Counter(['ne', 'ne', 'ne']), pairs).values())\n",
    "assert 0 == sum(iterate_until(Counter(['ne', 'ne', 'sw', 'sw']), pairs).values())\n",
    "assert 2 == sum(iterate_until(Counter(['ne', 'ne', 's', 's']), pairs).values())\n",
    "assert 3 == sum(iterate_until(Counter(['se', 'sw', 'se', 'sw', 'sw']), pairs).values())"
   ]
  },
  {
   "cell_type": "markdown",
   "metadata": {},
   "source": [
    "Finally, let's do this on the example."
   ]
  },
  {
   "cell_type": "code",
   "execution_count": 7,
   "metadata": {},
   "outputs": [
    {
     "data": {
      "text/plain": [
       "720"
      ]
     },
     "execution_count": 7,
     "metadata": {},
     "output_type": "execute_result"
    }
   ],
   "source": [
    "with open('../../data/day11.txt') as f:\n",
    "    data = f.read()\n",
    "    \n",
    "sum(iterate_until(Counter(data.strip().split(',')), pairs).values())"
   ]
  },
  {
   "cell_type": "markdown",
   "metadata": {},
   "source": [
    "### Part Two\n",
    "\n",
    "For part two, I need to work out the furthest distance away from the origin at any point along the path. That is, I need to calculate this value for every subsequence of instruction.\n",
    "\n",
    "For example, for instruction set `se,se,n,n`, I would need to work out the values for `se`, `se,se`, `se,se,n` and `se,se,n,n` and work out the maximum distance across these."
   ]
  },
  {
   "cell_type": "code",
   "execution_count": 8,
   "metadata": {},
   "outputs": [
    {
     "data": {
      "text/plain": [
       "1485"
      ]
     },
     "execution_count": 8,
     "metadata": {},
     "output_type": "execute_result"
    }
   ],
   "source": [
    "with open('../../data/day11.txt') as f:\n",
    "    data = f.read()\n",
    "    \n",
    "directions = data.strip().split(',')\n",
    "all_directions = [Counter(directions[0:i]) for i in range(1, len(directions) + 1)]\n",
    "max(map(lambda x: sum(iterate_until(x, pairs).values()), all_directions) )"
   ]
  }
 ],
 "metadata": {
  "kernelspec": {
   "display_name": "Python 3",
   "language": "python",
   "name": "python3"
  },
  "language_info": {
   "codemirror_mode": {
    "name": "ipython",
    "version": 3
   },
   "file_extension": ".py",
   "mimetype": "text/x-python",
   "name": "python",
   "nbconvert_exporter": "python",
   "pygments_lexer": "ipython3",
   "version": "3.6.2"
  }
 },
 "nbformat": 4,
 "nbformat_minor": 2
}
