{
 "cells": [
  {
   "cell_type": "code",
   "execution_count": 213,
   "metadata": {},
   "outputs": [],
   "source": [
    "import copy"
   ]
  },
  {
   "cell_type": "code",
   "execution_count": 214,
   "metadata": {},
   "outputs": [],
   "source": [
    "def reallocate(banks):\n",
    "    banks_copy = copy.copy(banks)\n",
    "    \n",
    "    blocks, index = max(banks), banks.index(max(banks))\n",
    "    banks_copy[index] = 0\n",
    "    \n",
    "    while blocks:\n",
    "        banks_copy[(index + 1) % len(banks)] += 1\n",
    "        index += 1\n",
    "        blocks -= 1\n",
    "        \n",
    "    return banks_copy"
   ]
  },
  {
   "cell_type": "code",
   "execution_count": 215,
   "metadata": {},
   "outputs": [],
   "source": [
    "def cycle(banks):\n",
    "    b = copy.copy(banks)\n",
    "    seen_states = [b]\n",
    "    \n",
    "    while True:\n",
    "        b = reallocate(b)\n",
    "        \n",
    "        if b in seen_states:\n",
    "            return len(seen_states), len(seen_states) - seen_states.index(b)\n",
    "            \n",
    "        seen_states.append(b)"
   ]
  },
  {
   "cell_type": "code",
   "execution_count": 216,
   "metadata": {},
   "outputs": [
    {
     "data": {
      "text/plain": [
       "(5, 4)"
      ]
     },
     "execution_count": 216,
     "metadata": {},
     "output_type": "execute_result"
    }
   ],
   "source": [
    "cycle([0, 2, 7, 0])"
   ]
  },
  {
   "cell_type": "code",
   "execution_count": 217,
   "metadata": {},
   "outputs": [
    {
     "data": {
      "text/plain": [
       "(12841, 8038)"
      ]
     },
     "execution_count": 217,
     "metadata": {},
     "output_type": "execute_result"
    }
   ],
   "source": [
    "cycle([4,10,4,1,8,4,9,14,5,1,14,15,0,15,3,5])"
   ]
  },
  {
   "cell_type": "code",
   "execution_count": 225,
   "metadata": {},
   "outputs": [
    {
     "name": "stdout",
     "output_type": "stream",
     "text": [
      " "
     ]
    }
   ],
   "source": [
    "%prun cycle([4,10,4,1,8,4,9,14,5,1,14,15,0,15,3,5])"
   ]
  },
  {
   "cell_type": "code",
   "execution_count": 219,
   "metadata": {},
   "outputs": [],
   "source": [
    "def cycle_with_strings(banks):\n",
    "    b = copy.copy(banks)\n",
    "    b_string = ','.join([str(x) for x in b])\n",
    "    seen_states = [b_string]\n",
    "    \n",
    "    while True:\n",
    "        b = reallocate(b)\n",
    "        b_string = ','.join([str(x) for x in b])\n",
    "        \n",
    "        if b_string in seen_states:\n",
    "            return len(seen_states), len(seen_states) - seen_states.index(b_string)\n",
    "            \n",
    "        seen_states.append(b_string)"
   ]
  },
  {
   "cell_type": "code",
   "execution_count": 220,
   "metadata": {},
   "outputs": [
    {
     "name": "stdout",
     "output_type": "stream",
     "text": [
      " "
     ]
    }
   ],
   "source": [
    "%prun cycle_with_strings([4,10,4,1,8,4,9,14,5,1,14,15,0,15,3,5])"
   ]
  },
  {
   "cell_type": "code",
   "execution_count": 221,
   "metadata": {},
   "outputs": [],
   "source": [
    "def cycle_with_strings_and_sets(banks):\n",
    "    b = copy.copy(banks)\n",
    "    b_string = ','.join([str(x) for x in b])\n",
    "    seen_states = set([b_string])\n",
    "    state_position = {}\n",
    "    \n",
    "    while True:\n",
    "        b = reallocate(b)\n",
    "        b_string = ','.join([str(x) for x in b])\n",
    "        \n",
    "        if b_string in seen_states:\n",
    "            return len(seen_states), len(seen_states) - state_position[b_string]\n",
    "\n",
    "        state_position[b_string] = len(seen_states)\n",
    "        seen_states.add(b_string)"
   ]
  },
  {
   "cell_type": "code",
   "execution_count": 222,
   "metadata": {},
   "outputs": [
    {
     "name": "stdout",
     "output_type": "stream",
     "text": [
      " "
     ]
    }
   ],
   "source": [
    "%prun cycle_with_strings_and_sets([4,10,4,1,8,4,9,14,5,1,14,15,0,15,3,5])"
   ]
  },
  {
   "cell_type": "code",
   "execution_count": 224,
   "metadata": {},
   "outputs": [
    {
     "name": "stdout",
     "output_type": "stream",
     "text": [
      "(12841, 8038)\n",
      "(12841, 8038)\n",
      "(12841, 8038)\n"
     ]
    }
   ],
   "source": [
    "print(cycle([4,10,4,1,8,4,9,14,5,1,14,15,0,15,3,5]))\n",
    "print(cycle_with_strings([4,10,4,1,8,4,9,14,5,1,14,15,0,15,3,5]))\n",
    "print(cycle_with_strings_and_sets([4,10,4,1,8,4,9,14,5,1,14,15,0,15,3,5]))"
   ]
  },
  {
   "cell_type": "code",
   "execution_count": null,
   "metadata": {},
   "outputs": [],
   "source": []
  }
 ],
 "metadata": {
  "kernelspec": {
   "display_name": "Python 3",
   "language": "python",
   "name": "python3"
  },
  "language_info": {
   "codemirror_mode": {
    "name": "ipython",
    "version": 3
   },
   "file_extension": ".py",
   "mimetype": "text/x-python",
   "name": "python",
   "nbconvert_exporter": "python",
   "pygments_lexer": "ipython3",
   "version": "3.6.2"
  }
 },
 "nbformat": 4,
 "nbformat_minor": 2
}
