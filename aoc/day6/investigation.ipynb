{
 "cells": [
  {
   "cell_type": "markdown",
   "metadata": {},
   "source": [
    "# Day Five"
   ]
  },
  {
   "cell_type": "markdown",
   "metadata": {},
   "source": [
    "## Task"
   ]
  },
  {
   "cell_type": "markdown",
   "metadata": {},
   "source": [
    "We have been [tasked](https://adventofcode.com/2017/day/6) with the reallocation of blocks between memory banks.\n",
    "\n",
    "Given some initial state, part one is about identifying after how many steps we see a repeated state (not necessarily a repeat of the initial state). Part two is about identifying the length of the cycle over which the state repeats.\n",
    "\n",
    "The crucial difference between the first and second parts is the need to be able to retrospectively determine when a particular state first appeared. This encourages some interesting data structure choices..."
   ]
  },
  {
   "cell_type": "markdown",
   "metadata": {},
   "source": [
    "### Part One"
   ]
  },
  {
   "cell_type": "markdown",
   "metadata": {},
   "source": [
    "First, we define a function that performs the reallocation according to the rules laid out."
   ]
  },
  {
   "cell_type": "code",
   "execution_count": 1,
   "metadata": {},
   "outputs": [],
   "source": [
    "import copy\n",
    "\n",
    "def reallocate(banks):\n",
    "    banks_copy = copy.copy(banks)\n",
    "    \n",
    "    blocks, index = max(banks), banks.index(max(banks))\n",
    "    banks_copy[index] = 0\n",
    "    \n",
    "    while blocks:\n",
    "        banks_copy[(index + 1) % len(banks)] += 1\n",
    "        index += 1\n",
    "        blocks -= 1\n",
    "        \n",
    "    return banks_copy"
   ]
  },
  {
   "cell_type": "markdown",
   "metadata": {},
   "source": [
    "Second, we define a function that determines the number of steps before we see a cycle."
   ]
  },
  {
   "cell_type": "code",
   "execution_count": 2,
   "metadata": {},
   "outputs": [],
   "source": [
    "def cycle(banks):\n",
    "    b = copy.copy(banks)\n",
    "    seen_states = [b]\n",
    "    \n",
    "    while True:\n",
    "        b = reallocate(b)\n",
    "        \n",
    "        if b in seen_states:\n",
    "            return len(seen_states)\n",
    "            \n",
    "        seen_states.append(b)"
   ]
  },
  {
   "cell_type": "markdown",
   "metadata": {},
   "source": [
    "We validate this on our text example"
   ]
  },
  {
   "cell_type": "code",
   "execution_count": 3,
   "metadata": {},
   "outputs": [
    {
     "data": {
      "text/plain": [
       "5"
      ]
     },
     "execution_count": 3,
     "metadata": {},
     "output_type": "execute_result"
    }
   ],
   "source": [
    "cycle([0, 2, 7, 0])"
   ]
  },
  {
   "cell_type": "markdown",
   "metadata": {},
   "source": [
    "The answer to part one is then given by"
   ]
  },
  {
   "cell_type": "code",
   "execution_count": 4,
   "metadata": {},
   "outputs": [
    {
     "data": {
      "text/plain": [
       "12841"
      ]
     },
     "execution_count": 4,
     "metadata": {},
     "output_type": "execute_result"
    }
   ],
   "source": [
    "cycle([4,10,4,1,8,4,9,14,5,1,14,15,0,15,3,5])"
   ]
  },
  {
   "cell_type": "markdown",
   "metadata": {},
   "source": [
    "The answer to part one is then given by"
   ]
  },
  {
   "cell_type": "markdown",
   "metadata": {},
   "source": [
    "### Part Two"
   ]
  },
  {
   "cell_type": "markdown",
   "metadata": {},
   "source": [
    "Since we store the observed states in a list, we can simply find the index of the first occurrence in order to determine the length of the cycle. That is, we redefine `cycle` as follows"
   ]
  },
  {
   "cell_type": "code",
   "execution_count": 5,
   "metadata": {},
   "outputs": [],
   "source": [
    "def cycle(banks):\n",
    "    b = copy.copy(banks)\n",
    "    seen_states = [b]\n",
    "    \n",
    "    while True:\n",
    "        b = reallocate(b)\n",
    "        \n",
    "        if b in seen_states:\n",
    "            return len(seen_states), len(seen_states) - seen_states.index(b)\n",
    "            \n",
    "        seen_states.append(b)"
   ]
  },
  {
   "cell_type": "markdown",
   "metadata": {},
   "source": [
    "Again, we test this on our example with"
   ]
  },
  {
   "cell_type": "code",
   "execution_count": 6,
   "metadata": {},
   "outputs": [
    {
     "data": {
      "text/plain": [
       "(5, 4)"
      ]
     },
     "execution_count": 6,
     "metadata": {},
     "output_type": "execute_result"
    }
   ],
   "source": [
    "cycle([0, 2, 7, 0])"
   ]
  },
  {
   "cell_type": "markdown",
   "metadata": {},
   "source": [
    "The answer to part two is then given by"
   ]
  },
  {
   "cell_type": "code",
   "execution_count": 7,
   "metadata": {},
   "outputs": [
    {
     "data": {
      "text/plain": [
       "(12841, 8038)"
      ]
     },
     "execution_count": 7,
     "metadata": {},
     "output_type": "execute_result"
    }
   ],
   "source": [
    "cycle([4,10,4,1,8,4,9,14,5,1,14,15,0,15,3,5])"
   ]
  },
  {
   "cell_type": "markdown",
   "metadata": {},
   "source": [
    "### Optimisation"
   ]
  },
  {
   "cell_type": "markdown",
   "metadata": {},
   "source": [
    "I mentioned at the start that we can make interesting choices with data structures to affect the performance of our program. First, let's look at the results given by `%prun` for our latest `cycle` function.\n",
    "\n",
    "```\n",
    "         274519 function calls in 2.941 seconds\n",
    "\n",
    "   Ordered by: internal time\n",
    "\n",
    "   ncalls  tottime  percall  cumtime  percall filename:lineno(function)\n",
    "        1    2.889    2.889    3.059    3.059 <ipython-input-10-ae6cd06bc826>:1(cycle)\n",
    "    12841    0.101    0.000    0.167    0.000 <ipython-input-4-d3c1671c05e9>:3(reallocate)\n",
    "    25682    0.022    0.000    0.022    0.000 {built-in method builtins.max}\n",
    "    12842    0.017    0.000    0.021    0.000 copy.py:66(copy)\n",
    "   184626    0.016    0.000    0.016    0.000 {built-in method builtins.len}\n",
    "    12842    0.006    0.000    0.006    0.000 {method 'index' of 'list' objects}\n",
    "    12842    0.004    0.000    0.004    0.000 {method 'get' of 'dict' objects}\n",
    "    12840    0.003    0.000    0.003    0.000 {method 'append' of 'list' objects}\n",
    "        1    0.001    0.001    3.060    3.060 <string>:1(<module>)\n",
    "        1    0.000    0.000    3.060    3.060 {built-in method builtins.exec}\n",
    "        1    0.000    0.000    0.000    0.000 {method 'disable' of '_lsprof.Profiler' objects}\n",
    "```\n",
    "\n",
    "The majority of the time is spent in the body of `cycle` (as opposed to in `reallocate` which is what I was expecting). By refactoring `b in seen_states` into a function, it's possible to find that most of the time is spent there. How can we make this faster?\n",
    "\n",
    "Well, there are two ideas that come to mind. First we'll try storing each state in a format that allows for faster comparison (I'll try `str` and `tuple`). Second, we'll try using a different data structure to store state, a `set`."
   ]
  },
  {
   "cell_type": "code",
   "execution_count": 8,
   "metadata": {},
   "outputs": [],
   "source": [
    "def cycle_with_str(banks):\n",
    "    b = copy.copy(banks)\n",
    "    seen_states = [','.join([str(x) for x in b])]\n",
    "    \n",
    "    while True:\n",
    "        b = reallocate(b)\n",
    "        \n",
    "        if ','.join([str(x) for x in b]) in seen_states:\n",
    "            return len(seen_states), len(seen_states) - seen_states.index(','.join([str(x) for x in b]))\n",
    "            \n",
    "        seen_states.append(','.join([str(x) for x in b]))"
   ]
  },
  {
   "cell_type": "code",
   "execution_count": 9,
   "metadata": {},
   "outputs": [
    {
     "data": {
      "text/plain": [
       "(12841, 8038)"
      ]
     },
     "execution_count": 9,
     "metadata": {},
     "output_type": "execute_result"
    }
   ],
   "source": [
    "cycle_with_str([4,10,4,1,8,4,9,14,5,1,14,15,0,15,3,5])"
   ]
  },
  {
   "cell_type": "markdown",
   "metadata": {},
   "source": [
    "This takes a total of 2.470 seconds to execute, a 16% improvement over 2.941 seconds. Now, let's try with tuples."
   ]
  },
  {
   "cell_type": "code",
   "execution_count": 10,
   "metadata": {},
   "outputs": [],
   "source": [
    "def cycle_with_tuple(banks):\n",
    "    b = copy.copy(banks)\n",
    "    seen_states = [tuple(b)]\n",
    "    \n",
    "    while True:\n",
    "        b = reallocate(b)\n",
    "        \n",
    "        if tuple(b) in seen_states:\n",
    "            return len(seen_states), len(seen_states) - seen_states.index(tuple(b))\n",
    "            \n",
    "        seen_states.append(tuple(b))"
   ]
  },
  {
   "cell_type": "code",
   "execution_count": 11,
   "metadata": {},
   "outputs": [
    {
     "data": {
      "text/plain": [
       "(12841, 8038)"
      ]
     },
     "execution_count": 11,
     "metadata": {},
     "output_type": "execute_result"
    }
   ],
   "source": [
    "cycle_with_tuple([4,10,4,1,8,4,9,14,5,1,14,15,0,15,3,5])"
   ]
  },
  {
   "cell_type": "markdown",
   "metadata": {},
   "source": [
    "This takes a total of 2.982 seconds to execute; essentially the same as when using lists and worse than when using strings. Finally, let's use a set to store state. Note that we'll have to use a different object to store the state's position since we require this for the cycle length. Further, we use the string form of the sequence because we a set requires that its contents be hashable."
   ]
  },
  {
   "cell_type": "code",
   "execution_count": 12,
   "metadata": {},
   "outputs": [],
   "source": [
    "def cycle_with_set(banks):\n",
    "    b = copy.copy(banks)\n",
    "    seen_states = set(','.join([str(x) for x in b]))\n",
    "    state_position = {}\n",
    "    \n",
    "    while True:\n",
    "        b = reallocate(b)\n",
    "                      \n",
    "        if ','.join([str(x) for x in b]) in seen_states:\n",
    "            return len(seen_states), len(seen_states) - state_position[','.join([str(x) for x in b])]\n",
    "\n",
    "        state_position[','.join([str(x) for x in b])] = len(seen_states)\n",
    "        seen_states.add(','.join([str(x) for x in b]))"
   ]
  },
  {
   "cell_type": "code",
   "execution_count": 13,
   "metadata": {},
   "outputs": [
    {
     "data": {
      "text/plain": [
       "(12848, 8038)"
      ]
     },
     "execution_count": 13,
     "metadata": {},
     "output_type": "execute_result"
    }
   ],
   "source": [
    "cycle_with_set([4,10,4,1,8,4,9,14,5,1,14,15,0,15,3,5])"
   ]
  },
  {
   "cell_type": "markdown",
   "metadata": {},
   "source": [
    "This takes a total of 0.387 seconds to execute, only 13% of the time of the original method. Surprising to me but useful to know!"
   ]
  }
 ],
 "metadata": {
  "kernelspec": {
   "display_name": "Python 3",
   "language": "python",
   "name": "python3"
  },
  "language_info": {
   "codemirror_mode": {
    "name": "ipython",
    "version": 3
   },
   "file_extension": ".py",
   "mimetype": "text/x-python",
   "name": "python",
   "nbconvert_exporter": "python",
   "pygments_lexer": "ipython3",
   "version": "3.6.2"
  }
 },
 "nbformat": 4,
 "nbformat_minor": 2
}
