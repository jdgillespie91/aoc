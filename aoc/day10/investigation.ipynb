{
 "cells": [
  {
   "cell_type": "markdown",
   "metadata": {},
   "source": [
    "# Day Ten\n",
    "\n",
    "## Task\n",
    "\n",
    "The [task](https://adventofcode.com/2017/day/10) today is to calculate the hash of a list where the hash is defined as some knot-tying function.\n",
    "\n",
    "### Part One\n",
    "\n",
    "First, let's define a function that allows us to *twist* the knot according to the rules defined."
   ]
  },
  {
   "cell_type": "code",
   "execution_count": 1,
   "metadata": {},
   "outputs": [],
   "source": [
    "from collections import deque\n",
    "from copy import copy\n",
    "from itertools import islice\n",
    "\n",
    "\n",
    "def twist(sequence, position, skip, length):\n",
    "    s = copy(sequence)\n",
    "    \n",
    "    s.rotate(-position)\n",
    "    s = deque(\n",
    "        list(reversed(list(islice(s, 0, length))))\n",
    "        + list(islice(s, length, len(s)))\n",
    "    )\n",
    "    s.rotate(position)\n",
    "    \n",
    "    return s"
   ]
  },
  {
   "cell_type": "markdown",
   "metadata": {},
   "source": [
    "We can then define a `hash_` function that twists as per the task."
   ]
  },
  {
   "cell_type": "code",
   "execution_count": 2,
   "metadata": {},
   "outputs": [],
   "source": [
    "def hash_(sequence, lengths):\n",
    "    s = deque(sequence)\n",
    "    position = 0\n",
    "    skip = 0\n",
    "    \n",
    "    for length in lengths:\n",
    "        s = twist(s, position, skip, length)\n",
    "        position = (position + skip + length) % len(s)\n",
    "        skip += 1\n",
    "    \n",
    "    return list(s)"
   ]
  },
  {
   "cell_type": "markdown",
   "metadata": {},
   "source": [
    "Finally, we can validate that the hashed sequence as as expected."
   ]
  },
  {
   "cell_type": "code",
   "execution_count": 3,
   "metadata": {},
   "outputs": [],
   "source": [
    "sequence = [0, 1, 2, 3, 4]\n",
    "hashed_sequence = hash_(sequence, [3, 4, 1, 5])\n",
    "\n",
    "assert hashed_sequence == [3, 4, 2, 1, 0]\n",
    "assert hashed_sequence[0] * hashed_sequence[1] == 12"
   ]
  },
  {
   "cell_type": "markdown",
   "metadata": {},
   "source": [
    "Against the puzzle, we find"
   ]
  },
  {
   "cell_type": "code",
   "execution_count": 4,
   "metadata": {},
   "outputs": [
    {
     "data": {
      "text/plain": [
       "11413"
      ]
     },
     "execution_count": 4,
     "metadata": {},
     "output_type": "execute_result"
    }
   ],
   "source": [
    "with open('../../data/day10.txt') as f:\n",
    "    data = f.read()\n",
    "    \n",
    "hashed_sequence = hash_(sequence=range(0, 256), lengths=[int(x) for x in data.split(',')])\n",
    "hashed_sequence[0] * hashed_sequence[1]"
   ]
  },
  {
   "cell_type": "markdown",
   "metadata": {},
   "source": [
    "### Part Two\n",
    "\n",
    "The second part of the task builds upon that which we did in the first. However, there is a bunch of pre- and post-processing to do. Let's begin by looking at the lengths.\n",
    "\n",
    "According to the task, our input should not be a list of numbers but a string of bytes. That is, we should encode our list of numbers.\n",
    "\n",
    "The method of encoding is not entirely clear to me. The task explicitly says that if given lengths `1,2,3`, we can expect a return of `49,44,50,44,51,17,31,73,47,23`. I assume then that for two digit lengths, we encode each digit separately. For example, `10,2,3` would become `49,48,44,50,44,51,17,31,73,47,23`."
   ]
  },
  {
   "cell_type": "code",
   "execution_count": 5,
   "metadata": {},
   "outputs": [],
   "source": [
    "def encode(string):\n",
    "    return ','.join([str(ord(x)) for x in string] + ['17', '31', '73', '47', '23'])\n",
    "\n",
    "assert encode('1,2,3') == '49,44,50,44,51,17,31,73,47,23'\n",
    "assert encode('10,2,3') == '49,48,44,50,44,51,17,31,73,47,23'"
   ]
  },
  {
   "cell_type": "markdown",
   "metadata": {},
   "source": [
    "Now, we need to extend our `hash` function to allow us to carry over the value of position and skip. We do this as follows."
   ]
  },
  {
   "cell_type": "code",
   "execution_count": 6,
   "metadata": {},
   "outputs": [],
   "source": [
    "def hash_(sequence, lengths, position=0, skip=0):\n",
    "    s = deque(sequence)\n",
    "    position_ = position\n",
    "    skip_ = skip\n",
    "    \n",
    "    for length in lengths:\n",
    "        s = twist(s, position_, skip_, length)\n",
    "        position_ = (position_ + skip_ + length) % len(s)\n",
    "        skip_ += 1\n",
    "    \n",
    "    return list(s), position_, skip_"
   ]
  },
  {
   "cell_type": "markdown",
   "metadata": {},
   "source": [
    "Now, we can define an outer hash function that runs the hash cycles."
   ]
  },
  {
   "cell_type": "code",
   "execution_count": 7,
   "metadata": {},
   "outputs": [],
   "source": [
    "def cycle(sequence, lengths):\n",
    "    s = copy(sequence)\n",
    "    position = 0\n",
    "    skip = 0\n",
    "    \n",
    "    for _ in range(0, 64):\n",
    "        s, position, skip = hash_(s, lengths, position, skip)\n",
    "\n",
    "    return s"
   ]
  },
  {
   "cell_type": "markdown",
   "metadata": {},
   "source": [
    "We can then compute the sparse hash, dense hash and final hashed value as follows."
   ]
  },
  {
   "cell_type": "code",
   "execution_count": 8,
   "metadata": {},
   "outputs": [],
   "source": [
    "from functools import reduce\n",
    "\n",
    "def output(lengths):\n",
    "    sequence = range(0, 256)\n",
    "    \n",
    "    lengths = [int(x) for x in encode(lengths.strip()).split(',')]\n",
    "    sparse_hash = cycle(range(0, 256), lengths)\n",
    "    dense_hash = map(\n",
    "        lambda x: reduce(lambda y, z: y ^ z, x), \n",
    "        [sparse_hash[x:x+16] for x in range(0, len(sparse_hash), 16)]\n",
    "    )\n",
    "\n",
    "    return ''.join([hex(x)[2:].zfill(2) for x in dense_hash])\n",
    "\n",
    "\n",
    "assert output('') == 'a2582a3a0e66e6e86e3812dcb672a272'\n",
    "assert output('AoC 2017') == '33efeb34ea91902bb2f59c9920caa6cd'\n",
    "assert output('1,2,3') == '3efbe78a8d82f29979031a4aa0b16a9d'\n",
    "assert output('1,2,4') == '63960835bcdc130f0b66d7ff4f6a5a8e'"
   ]
  },
  {
   "cell_type": "markdown",
   "metadata": {},
   "source": [
    "Finally, on the puzzle, we find"
   ]
  },
  {
   "cell_type": "code",
   "execution_count": 10,
   "metadata": {},
   "outputs": [
    {
     "name": "stdout",
     "output_type": "stream",
     "text": [
      "106,16,254,226,55,2,1,166,177,247,93,0,255,228,60,36\n",
      "\n"
     ]
    },
    {
     "data": {
      "text/plain": [
       "'7adfd64c2a03a4968cf708d1b7fd418d'"
      ]
     },
     "execution_count": 10,
     "metadata": {},
     "output_type": "execute_result"
    }
   ],
   "source": [
    "with open('../../data/day10.txt') as f:\n",
    "    data = f.read()\n",
    "\n",
    "print(data)\n",
    "output(data)"
   ]
  }
 ],
 "metadata": {
  "kernelspec": {
   "display_name": "Python 3",
   "language": "python",
   "name": "python3"
  },
  "language_info": {
   "codemirror_mode": {
    "name": "ipython",
    "version": 3
   },
   "file_extension": ".py",
   "mimetype": "text/x-python",
   "name": "python",
   "nbconvert_exporter": "python",
   "pygments_lexer": "ipython3",
   "version": "3.6.2"
  }
 },
 "nbformat": 4,
 "nbformat_minor": 2
}
