{
 "cells": [
  {
   "cell_type": "markdown",
   "metadata": {},
   "source": [
    "# Day Twelve\n",
    "\n",
    "## Task\n",
    "\n",
    "The [task](https://adventofcode.com/2017/day/12) today is to implement a graph search in order to determine those nodes that belong to a connected graph and those that are separate.\n",
    "\n",
    "### Part One\n",
    "\n",
    "We start by finding a suitable data structure for the graph."
   ]
  },
  {
   "cell_type": "code",
   "execution_count": 1,
   "metadata": {},
   "outputs": [],
   "source": [
    "graph = {\n",
    "    0: {2},\n",
    "    1: {1},\n",
    "    2: {0, 3, 4},\n",
    "    3: {2, 4},\n",
    "    4: {2, 3, 6},\n",
    "    5: {6},\n",
    "    6: {4, 5},\n",
    "}"
   ]
  },
  {
   "cell_type": "markdown",
   "metadata": {},
   "source": [
    "With this, we can perform breadth-first search starting at `0` to find those programs connected to it."
   ]
  },
  {
   "cell_type": "code",
   "execution_count": 2,
   "metadata": {},
   "outputs": [
    {
     "data": {
      "text/plain": [
       "{0, 2, 3, 4, 5, 6}"
      ]
     },
     "execution_count": 2,
     "metadata": {},
     "output_type": "execute_result"
    }
   ],
   "source": [
    "from queue import Empty, Queue\n",
    "\n",
    "\n",
    "def search(graph, start=0):\n",
    "    queue = Queue()\n",
    "    queue.put(start)\n",
    "    discovered = set()\n",
    "    \n",
    "    while True:\n",
    "        try:\n",
    "            node = queue.get(timeout=0)\n",
    "        except Empty:\n",
    "            break\n",
    "        else:\n",
    "            for neighbour in (graph[node] - discovered):\n",
    "                queue.put(neighbour)\n",
    "                discovered.add(neighbour)\n",
    "\n",
    "    return discovered\n",
    "\n",
    "search(graph)"
   ]
  },
  {
   "cell_type": "markdown",
   "metadata": {},
   "source": [
    "We can search the puzzle with"
   ]
  },
  {
   "cell_type": "code",
   "execution_count": 3,
   "metadata": {},
   "outputs": [
    {
     "data": {
      "text/plain": [
       "115"
      ]
     },
     "execution_count": 3,
     "metadata": {},
     "output_type": "execute_result"
    }
   ],
   "source": [
    "def read_row(row):\n",
    "    parts = row.split(' <-> ')    \n",
    "    return int(parts[0]), {int(x) for x in parts[1].split(', ')}\n",
    "    \n",
    "\n",
    "def read():\n",
    "    with open ('../../data/day12.txt') as f:\n",
    "        data = f.read()\n",
    "        \n",
    "    return {k: v for k, v in map(read_row, [x for x in data.split('\\n') if x])}\n",
    "\n",
    "graph = read()\n",
    "len(search(graph))"
   ]
  },
  {
   "cell_type": "markdown",
   "metadata": {},
   "source": [
    "### Part Two\n",
    "\n",
    "For part two, we are to determine the number of groups in the graph. For this, I will search and then prune. That is, I will remove every discovered node from the graph after a search is complete (remember, a search is complete when a complete group is found). The number of times it takes to prune before reaching an empty graph is the number of groups."
   ]
  },
  {
   "cell_type": "code",
   "execution_count": 8,
   "metadata": {},
   "outputs": [
    {
     "name": "stdout",
     "output_type": "stream",
     "text": [
      "dict_keys([0, 1, 2, 3, 4, 5, 6])\n"
     ]
    },
    {
     "ename": "TypeError",
     "evalue": "'dict_keys' object does not support indexing",
     "output_type": "error",
     "traceback": [
      "\u001b[0;31m---------------------------------------------------------------------------\u001b[0m",
      "\u001b[0;31mTypeError\u001b[0m                                 Traceback (most recent call last)",
      "\u001b[0;32m<ipython-input-8-dce64ddc4874>\u001b[0m in \u001b[0;36m<module>\u001b[0;34m()\u001b[0m\n\u001b[1;32m     23\u001b[0m }\n\u001b[1;32m     24\u001b[0m \u001b[0;34m\u001b[0m\u001b[0m\n\u001b[0;32m---> 25\u001b[0;31m \u001b[0mprune\u001b[0m\u001b[0;34m(\u001b[0m\u001b[0mgraph\u001b[0m\u001b[0;34m)\u001b[0m\u001b[0;34m\u001b[0m\u001b[0m\n\u001b[0m",
      "\u001b[0;32m<ipython-input-8-dce64ddc4874>\u001b[0m in \u001b[0;36mprune\u001b[0;34m(graph)\u001b[0m\n\u001b[1;32m      4\u001b[0m     \u001b[0;32mwhile\u001b[0m \u001b[0mgraph\u001b[0m\u001b[0;34m:\u001b[0m\u001b[0;34m\u001b[0m\u001b[0m\n\u001b[1;32m      5\u001b[0m         \u001b[0mprint\u001b[0m\u001b[0;34m(\u001b[0m\u001b[0mgraph\u001b[0m\u001b[0;34m.\u001b[0m\u001b[0mkeys\u001b[0m\u001b[0;34m(\u001b[0m\u001b[0;34m)\u001b[0m\u001b[0;34m)\u001b[0m\u001b[0;34m\u001b[0m\u001b[0m\n\u001b[0;32m----> 6\u001b[0;31m         \u001b[0mnodes\u001b[0m \u001b[0;34m=\u001b[0m \u001b[0msearch\u001b[0m\u001b[0;34m(\u001b[0m\u001b[0mgraph\u001b[0m\u001b[0;34m,\u001b[0m \u001b[0mstart\u001b[0m\u001b[0;34m=\u001b[0m\u001b[0mgraph\u001b[0m\u001b[0;34m.\u001b[0m\u001b[0mkeys\u001b[0m\u001b[0;34m(\u001b[0m\u001b[0;34m)\u001b[0m\u001b[0;34m[\u001b[0m\u001b[0;36m0\u001b[0m\u001b[0;34m]\u001b[0m\u001b[0;34m)\u001b[0m\u001b[0;34m\u001b[0m\u001b[0m\n\u001b[0m\u001b[1;32m      7\u001b[0m \u001b[0;34m\u001b[0m\u001b[0m\n\u001b[1;32m      8\u001b[0m         \u001b[0mprint\u001b[0m\u001b[0;34m(\u001b[0m\u001b[0;34mf'Removing {nodes}'\u001b[0m\u001b[0;34m)\u001b[0m\u001b[0;34m\u001b[0m\u001b[0m\n",
      "\u001b[0;31mTypeError\u001b[0m: 'dict_keys' object does not support indexing"
     ]
    }
   ],
   "source": [
    "def prune(graph):\n",
    "    groups = 0\n",
    "    \n",
    "    while graph:\n",
    "        print(graph.keys())\n",
    "        nodes = search(graph, start=graph.keys()[0])\n",
    "        \n",
    "        print(f'Removing {nodes}')\n",
    "        for node in nodes:\n",
    "            del graph[node]\n",
    "            \n",
    "        groups += 1\n",
    "        \n",
    "  \n",
    "graph = {\n",
    "    0: {2},\n",
    "    1: {1},\n",
    "    2: {0, 3, 4},\n",
    "    3: {2, 4},\n",
    "    4: {2, 3, 6},\n",
    "    5: {6},\n",
    "    6: {4, 5},\n",
    "}\n",
    "\n",
    "prune(graph)"
   ]
  }
 ],
 "metadata": {
  "kernelspec": {
   "display_name": "Python 3",
   "language": "python",
   "name": "python3"
  },
  "language_info": {
   "codemirror_mode": {
    "name": "ipython",
    "version": 3
   },
   "file_extension": ".py",
   "mimetype": "text/x-python",
   "name": "python",
   "nbconvert_exporter": "python",
   "pygments_lexer": "ipython3",
   "version": "3.6.2"
  }
 },
 "nbformat": 4,
 "nbformat_minor": 2
}
