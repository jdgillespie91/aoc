{
 "cells": [
  {
   "cell_type": "markdown",
   "metadata": {},
   "source": [
    "# Day Fourteen\n",
    "\n",
    "## Task\n",
    "\n",
    "The [task](https://adventofcode.com/2017/day/14) today is to compute some more hashes.\n",
    "\n",
    "### Part One\n",
    "\n",
    "First, some crazy business."
   ]
  },
  {
   "cell_type": "code",
   "execution_count": 1,
   "metadata": {},
   "outputs": [],
   "source": [
    "def add_row_index(string, row_index):\n",
    "    return string + str(row_index)\n",
    "\n",
    "\n",
    "assert add_row_index('abc-', 0) == 'abc-0'\n",
    "assert add_row_index('abc-', 127) == 'abc-127'\n",
    "\n",
    "\n",
    "d = {\n",
    "    '0': '0000', '1': '0001', '2': '0010', '3': '0011',\n",
    "    '4': '0100', '5': '0101', '6': '0110', '7': '0111',\n",
    "    '8': '1000', '9': '1001', 'a': '1010', 'b': '1011',\n",
    "    'c': '1100', 'd': '1101', 'e': '1110', 'f': '1111',\n",
    "}\n",
    "def hex_to_binary_str(hex_str):\n",
    "    return ''.join(map(d.get, hex_str))\n",
    "\n",
    "\n",
    "assert hex_to_binary_str('0') == '0000'\n",
    "assert hex_to_binary_str('0f') == '00001111'\n",
    "assert hex_to_binary_str('9a') == '10011010'"
   ]
  },
  {
   "cell_type": "markdown",
   "metadata": {},
   "source": [
    "Second, let's bring back our hashing function, `output`."
   ]
  },
  {
   "cell_type": "code",
   "execution_count": 2,
   "metadata": {},
   "outputs": [],
   "source": [
    "from collections import deque\n",
    "from copy import copy\n",
    "from functools import reduce\n",
    "from itertools import islice\n",
    "\n",
    "\n",
    "def twist(sequence, position, skip, length):\n",
    "    s = copy(sequence)\n",
    "    \n",
    "    s.rotate(-position)\n",
    "    s = deque(\n",
    "        list(reversed(list(islice(s, 0, length))))\n",
    "        + list(islice(s, length, len(s)))\n",
    "    )\n",
    "    s.rotate(position)\n",
    "    \n",
    "    return s\n",
    "\n",
    "\n",
    "def hash_(sequence, lengths, position=0, skip=0):\n",
    "    s = deque(sequence)\n",
    "    position_ = position\n",
    "    skip_ = skip\n",
    "    \n",
    "    for length in lengths:\n",
    "        s = twist(s, position_, skip_, length)\n",
    "        position_ = (position_ + skip_ + length) % len(s)\n",
    "        skip_ += 1\n",
    "    \n",
    "    return list(s), position_, skip_\n",
    "\n",
    "def encode(string):\n",
    "    return ','.join([str(ord(x)) for x in string] + ['17', '31', '73', '47', '23'])\n",
    "\n",
    "\n",
    "def cycle(sequence, lengths):\n",
    "    s = copy(sequence)\n",
    "    position = 0\n",
    "    skip = 0\n",
    "    \n",
    "    for _ in range(0, 64):\n",
    "        s, position, skip = hash_(s, lengths, position, skip)\n",
    "\n",
    "    return s\n",
    "\n",
    "\n",
    "def output(string):\n",
    "    sequence = range(0, 256)\n",
    "    lengths = [int(x) for x in encode(string.strip()).split(',')]\n",
    "    sparse_hash = cycle(range(0, 256), lengths)\n",
    "    dense_hash = map(\n",
    "        lambda x: reduce(lambda y, z: y ^ z, x), \n",
    "        [sparse_hash[x:x+16] for x in range(0, len(sparse_hash), 16)]\n",
    "    )\n",
    "\n",
    "    return ''.join([hex(x)[2:].zfill(2) for x in dense_hash])"
   ]
  },
  {
   "cell_type": "markdown",
   "metadata": {},
   "source": [
    "Now let's join it up."
   ]
  },
  {
   "cell_type": "code",
   "execution_count": 3,
   "metadata": {},
   "outputs": [],
   "source": [
    "def read_example():\n",
    "    return 'flqrgnkx'\n",
    "\n",
    "\n",
    "def compute_grid(string):\n",
    "    rows = map(lambda x: add_row_index(string + '-', x), range(0, 128))\n",
    "    rows = map(output, rows)\n",
    "    return map(hex_to_binary_str, rows)\n",
    "    \n",
    "\n",
    "def count_(string):\n",
    "    rows = compute_grid(string)\n",
    "\n",
    "    return sum(map(lambda x: x.count('1'), rows))\n",
    "\n",
    "\n",
    "assert count_(read_example()) == 8108"
   ]
  },
  {
   "cell_type": "markdown",
   "metadata": {},
   "source": [
    "And on the puzzle, we have"
   ]
  },
  {
   "cell_type": "code",
   "execution_count": 4,
   "metadata": {},
   "outputs": [
    {
     "data": {
      "text/plain": [
       "8222"
      ]
     },
     "execution_count": 4,
     "metadata": {},
     "output_type": "execute_result"
    }
   ],
   "source": [
    "def read_puzzle():\n",
    "    return 'amgozmfv'\n",
    "\n",
    "count_(read_puzzle())"
   ]
  },
  {
   "cell_type": "markdown",
   "metadata": {},
   "source": [
    "### Part Two\n",
    "\n",
    "For the second part, we need to find the number of distinct groups in the grid. For this I'm going to create a graph and then using the work done on [day twelve](https://github.com/jdgillespie91/aoc/blob/master/aoc/day12/investigation.ipynb). First, we need to extend that work to count single nodes as distinct groups."
   ]
  },
  {
   "cell_type": "code",
   "execution_count": 5,
   "metadata": {},
   "outputs": [],
   "source": [
    "from queue import Empty, Queue\n",
    "\n",
    "\n",
    "def search(graph, start=0):\n",
    "    queue = Queue()\n",
    "    queue.put(start)\n",
    "    discovered = set()\n",
    "    \n",
    "    while True:\n",
    "        try:\n",
    "            node = queue.get(timeout=0)\n",
    "        except Empty:\n",
    "            break\n",
    "        else:\n",
    "            for neighbour in (graph[node] - discovered):\n",
    "                queue.put(neighbour)\n",
    "                discovered.add(neighbour)\n",
    "\n",
    "    return discovered\n",
    "\n",
    "\n",
    "def number_of_groups(graph):\n",
    "    groups = len({k for k, v in graph.items() if v == set()})\n",
    "    graph = {k: v for k, v in graph.items() if v != set()}\n",
    "    \n",
    "    while graph:\n",
    "        nodes = search(graph, start=next(iter(graph)))\n",
    "        \n",
    "        for node in nodes:\n",
    "            del graph[node]\n",
    "            \n",
    "        groups += 1\n",
    "        \n",
    "    return groups"
   ]
  },
  {
   "cell_type": "markdown",
   "metadata": {},
   "source": [
    "Now let's translate our grid into a searchable graph."
   ]
  },
  {
   "cell_type": "code",
   "execution_count": 6,
   "metadata": {},
   "outputs": [
    {
     "data": {
      "text/plain": [
       "1086"
      ]
     },
     "execution_count": 6,
     "metadata": {},
     "output_type": "execute_result"
    }
   ],
   "source": [
    "from collections import defaultdict\n",
    "\n",
    "\n",
    "def compute_coordinates(grid):\n",
    "    coordinates = set()\n",
    "    \n",
    "    for j, row in enumerate(grid):\n",
    "        for i, char in enumerate(row):\n",
    "            if char == '1':\n",
    "                coordinates.add((i, j))\n",
    "                \n",
    "    return coordinates\n",
    "\n",
    "\n",
    "def compute_graph_dict(coordinates):\n",
    "    graph = defaultdict(set)\n",
    "    \n",
    "    for coordinate in coordinates:\n",
    "        graph[coordinate]\n",
    "        \n",
    "        if (coordinate[0], coordinate[1] + 1) in coordinates:\n",
    "            graph[coordinate].add((coordinate[0], coordinate[1] + 1))\n",
    "            graph[(coordinate[0], coordinate[1] + 1)].add(coordinate)\n",
    "        \n",
    "        if (coordinate[0] + 1, coordinate[1]) in coordinates:\n",
    "            graph[coordinate].add((coordinate[0] + 1, coordinate[1]))\n",
    "            graph[(coordinate[0] + 1, coordinate[1])].add(coordinate)\n",
    "        \n",
    "    return graph\n",
    "\n",
    "\n",
    "def compute_graph(grid):\n",
    "    coordinates = compute_coordinates(grid)\n",
    "    return compute_graph_dict(coordinates)\n",
    "\n",
    "number_of_groups(compute_graph(list(compute_grid(read_puzzle()))))"
   ]
  }
 ],
 "metadata": {
  "kernelspec": {
   "display_name": "Python 3",
   "language": "python",
   "name": "python3"
  },
  "language_info": {
   "codemirror_mode": {
    "name": "ipython",
    "version": 3
   },
   "file_extension": ".py",
   "mimetype": "text/x-python",
   "name": "python",
   "nbconvert_exporter": "python",
   "pygments_lexer": "ipython3",
   "version": "3.6.2"
  }
 },
 "nbformat": 4,
 "nbformat_minor": 2
}
