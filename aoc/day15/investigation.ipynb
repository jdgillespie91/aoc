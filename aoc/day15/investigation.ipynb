{
 "cells": [
  {
   "cell_type": "markdown",
   "metadata": {},
   "source": [
    "# Day Fifteen\n",
    "\n",
    "## Task\n",
    "\n",
    "The [task](https://adventofcode.com/2017/day/15) today involves comparisons of integers. The idea is that we have two generators creating values and a judge determining whether these values \"match\", where the criteria for matching is that the last 16 bits are equal.\n",
    "\n",
    "### Part One\n",
    "\n",
    "The `judge` is essentially a controller. As such, we can define that first."
   ]
  },
  {
   "cell_type": "code",
   "execution_count": 1,
   "metadata": {},
   "outputs": [],
   "source": [
    "def judge(number_of_pairs):\n",
    "    matches = 0\n",
    "    gen_a, gen_b = generator(116, 16807), generator(299, 48271)\n",
    "    \n",
    "    for _ in range(0, number_of_pairs):\n",
    "        val_a, val_b = next(gen_a), next(gen_b)\n",
    "        if compare(val_a, val_b):\n",
    "            matches += 1\n",
    "        \n",
    "    return matches"
   ]
  },
  {
   "cell_type": "markdown",
   "metadata": {},
   "source": [
    "Now we need to define the generator as per the instructions in the task."
   ]
  },
  {
   "cell_type": "code",
   "execution_count": 2,
   "metadata": {},
   "outputs": [],
   "source": [
    "def generator(first_value, factor):\n",
    "    value = first_value\n",
    "        \n",
    "    while True:\n",
    "        value = (value * factor) % 2147483647\n",
    "            \n",
    "        yield value\n",
    "        \n",
    "        \n",
    "gen_a = generator(65, 16807)\n",
    "\n",
    "assert 1092455 == next(gen_a)\n",
    "assert 1181022009 == next(gen_a)\n",
    "assert 245556042 == next(gen_a)\n",
    "assert 1744312007 == next(gen_a)\n",
    "assert 1352636452 == next(gen_a)\n",
    "\n",
    "gen_b = generator(8921, 48271)\n",
    "\n",
    "assert 430625591 == next(gen_b)\n",
    "assert 1233683848 == next(gen_b)\n",
    "assert 1431495498 == next(gen_b)\n",
    "assert 137874439 == next(gen_b)\n",
    "assert 285222916 == next(gen_b)"
   ]
  },
  {
   "cell_type": "markdown",
   "metadata": {},
   "source": [
    "Finally, let's define a comparison function. We exploit the fact that `2 ^ 16 = 65536` and therefore the last 16 bits of integers `a` and `b` are equal if `(a - b) mod 65536` is equal to zero."
   ]
  },
  {
   "cell_type": "code",
   "execution_count": 3,
   "metadata": {},
   "outputs": [],
   "source": [
    "def compare(a, b):\n",
    "    return (a - b) % 65536 == 0\n",
    "    \n",
    "    \n",
    "assert not compare(1092455, 430625591)\n",
    "assert compare(245556042, 1431495498)"
   ]
  },
  {
   "cell_type": "markdown",
   "metadata": {},
   "source": [
    "Judging our puzzle gives"
   ]
  },
  {
   "cell_type": "code",
   "execution_count": 4,
   "metadata": {},
   "outputs": [
    {
     "data": {
      "text/plain": [
       "569"
      ]
     },
     "execution_count": 4,
     "metadata": {},
     "output_type": "execute_result"
    }
   ],
   "source": [
    "judge(int(4e7))"
   ]
  },
  {
   "cell_type": "markdown",
   "metadata": {},
   "source": [
    "### Part Two"
   ]
  },
  {
   "cell_type": "markdown",
   "metadata": {},
   "source": [
    "This part is extremely similar although the logic in the generator has changed. As such, we redefine `generator` and `judge` to suit."
   ]
  },
  {
   "cell_type": "code",
   "execution_count": 5,
   "metadata": {},
   "outputs": [],
   "source": [
    "def generator(first_value, factor, divisor):\n",
    "    value = first_value\n",
    "        \n",
    "    while True:\n",
    "        value = (value * factor) % 2147483647\n",
    "        \n",
    "        if value % divisor != 0:\n",
    "            continue\n",
    "            \n",
    "        yield value\n",
    "        \n",
    "\n",
    "def judge(number_of_pairs):\n",
    "    matches = 0\n",
    "    gen_a, gen_b = generator(116, 16807, 4), generator(299, 48271, 8)\n",
    "    \n",
    "    for _ in range(0, number_of_pairs):\n",
    "        val_a, val_b = next(gen_a), next(gen_b)\n",
    "        if compare(val_a, val_b):\n",
    "            matches += 1\n",
    "        \n",
    "    return matches"
   ]
  },
  {
   "cell_type": "markdown",
   "metadata": {},
   "source": [
    "Then running on our puzzle gives"
   ]
  },
  {
   "cell_type": "code",
   "execution_count": 6,
   "metadata": {},
   "outputs": [
    {
     "data": {
      "text/plain": [
       "298"
      ]
     },
     "execution_count": 6,
     "metadata": {},
     "output_type": "execute_result"
    }
   ],
   "source": [
    "judge(int(5e6))"
   ]
  }
 ],
 "metadata": {
  "kernelspec": {
   "display_name": "Python 3",
   "language": "python",
   "name": "python3"
  },
  "language_info": {
   "codemirror_mode": {
    "name": "ipython",
    "version": 3
   },
   "file_extension": ".py",
   "mimetype": "text/x-python",
   "name": "python",
   "nbconvert_exporter": "python",
   "pygments_lexer": "ipython3",
   "version": "3.6.2"
  }
 },
 "nbformat": 4,
 "nbformat_minor": 2
}
